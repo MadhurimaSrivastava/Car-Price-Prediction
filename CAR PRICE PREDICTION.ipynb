{
 "cells": [
  {
   "cell_type": "code",
   "execution_count": 1,
   "id": "606bbd00",
   "metadata": {},
   "outputs": [],
   "source": [
    "#Basic libraries\n",
    "import pandas as pd\n",
    "import numpy as np\n",
    "\n",
    "#Visualization libraries\n",
    "import seaborn as sns\n",
    "import matplotlib.pyplot as plt\n",
    "%matplotlib inline\n",
    "\n",
    "#Importing required metrices and model for the dataset\n",
    "from sklearn.model_selection import train_test_split, cross_val_score, GridSearchCV\n",
    "from sklearn.linear_model import LinearRegression,Lasso,ElasticNet,Ridge\n",
    "from sklearn.metrics import r2_score, mean_absolute_error,mean_squared_error\n",
    "from sklearn.tree import DecisionTreeRegressor\n",
    "from sklearn.neighbors import KNeighborsRegressor\n",
    "from sklearn.ensemble import RandomForestRegressor, AdaBoostRegressor, GradientBoostingRegressor\n",
    "from sklearn.model_selection import GridSearchCV\n",
    "\n",
    "#Ignore warnings\n",
    "import warnings\n",
    "warnings.filterwarnings('ignore')"
   ]
  },
  {
   "cell_type": "code",
   "execution_count": 2,
   "id": "f824b5a4",
   "metadata": {},
   "outputs": [
    {
     "data": {
      "text/html": [
       "<div>\n",
       "<style scoped>\n",
       "    .dataframe tbody tr th:only-of-type {\n",
       "        vertical-align: middle;\n",
       "    }\n",
       "\n",
       "    .dataframe tbody tr th {\n",
       "        vertical-align: top;\n",
       "    }\n",
       "\n",
       "    .dataframe thead th {\n",
       "        text-align: right;\n",
       "    }\n",
       "</style>\n",
       "<table border=\"1\" class=\"dataframe\">\n",
       "  <thead>\n",
       "    <tr style=\"text-align: right;\">\n",
       "      <th></th>\n",
       "      <th>Unnamed: 0</th>\n",
       "      <th>name</th>\n",
       "      <th>year</th>\n",
       "      <th>selling_price</th>\n",
       "      <th>km_driven</th>\n",
       "      <th>fuel</th>\n",
       "      <th>transmission</th>\n",
       "    </tr>\n",
       "  </thead>\n",
       "  <tbody>\n",
       "    <tr>\n",
       "      <th>0</th>\n",
       "      <td>0</td>\n",
       "      <td>Hyundai</td>\n",
       "      <td>2017</td>\n",
       "      <td>5,25,000</td>\n",
       "      <td>2,200 km</td>\n",
       "      <td>Petrol</td>\n",
       "      <td>Manual</td>\n",
       "    </tr>\n",
       "    <tr>\n",
       "      <th>1</th>\n",
       "      <td>1</td>\n",
       "      <td>Hyundai</td>\n",
       "      <td>2013</td>\n",
       "      <td>5,95,000</td>\n",
       "      <td>91,500 km</td>\n",
       "      <td>Diesel</td>\n",
       "      <td>Manual</td>\n",
       "    </tr>\n",
       "    <tr>\n",
       "      <th>2</th>\n",
       "      <td>2</td>\n",
       "      <td>Ford</td>\n",
       "      <td>2017</td>\n",
       "      <td>7,75,000</td>\n",
       "      <td>36,000 km</td>\n",
       "      <td>Diesel</td>\n",
       "      <td>Manual</td>\n",
       "    </tr>\n",
       "    <tr>\n",
       "      <th>3</th>\n",
       "      <td>3</td>\n",
       "      <td>Honda</td>\n",
       "      <td>2015</td>\n",
       "      <td>4,00,000</td>\n",
       "      <td>90,000 km</td>\n",
       "      <td>Diesel</td>\n",
       "      <td>Manual</td>\n",
       "    </tr>\n",
       "    <tr>\n",
       "      <th>4</th>\n",
       "      <td>4</td>\n",
       "      <td>Maruti Suzuki</td>\n",
       "      <td>2010</td>\n",
       "      <td>2,30,000</td>\n",
       "      <td>40,000 km</td>\n",
       "      <td>Petrol</td>\n",
       "      <td>Manual</td>\n",
       "    </tr>\n",
       "  </tbody>\n",
       "</table>\n",
       "</div>"
      ],
      "text/plain": [
       "   Unnamed: 0           name  year selling_price  km_driven    fuel  \\\n",
       "0           0        Hyundai  2017      5,25,000   2,200 km  Petrol   \n",
       "1           1        Hyundai  2013      5,95,000  91,500 km  Diesel   \n",
       "2           2           Ford  2017      7,75,000  36,000 km  Diesel   \n",
       "3           3          Honda  2015      4,00,000  90,000 km  Diesel   \n",
       "4           4  Maruti Suzuki  2010      2,30,000  40,000 km  Petrol   \n",
       "\n",
       "  transmission  \n",
       "0       Manual  \n",
       "1       Manual  \n",
       "2       Manual  \n",
       "3       Manual  \n",
       "4       Manual  "
      ]
     },
     "execution_count": 2,
     "metadata": {},
     "output_type": "execute_result"
    }
   ],
   "source": [
    "#Loading the data\n",
    "df=pd.read_csv('https://raw.githubusercontent.com/MadhurimaSrivastava/Car-Price-Prediction/main/dataset')  \n",
    "df.head()"
   ]
  },
  {
   "cell_type": "code",
   "execution_count": 3,
   "id": "3c7c0b3f",
   "metadata": {},
   "outputs": [
    {
     "data": {
      "text/plain": [
       "(10000, 7)"
      ]
     },
     "execution_count": 3,
     "metadata": {},
     "output_type": "execute_result"
    }
   ],
   "source": [
    "df.shape"
   ]
  },
  {
   "cell_type": "code",
   "execution_count": 4,
   "id": "aacc350a",
   "metadata": {},
   "outputs": [
    {
     "data": {
      "text/html": [
       "<div>\n",
       "<style scoped>\n",
       "    .dataframe tbody tr th:only-of-type {\n",
       "        vertical-align: middle;\n",
       "    }\n",
       "\n",
       "    .dataframe tbody tr th {\n",
       "        vertical-align: top;\n",
       "    }\n",
       "\n",
       "    .dataframe thead th {\n",
       "        text-align: right;\n",
       "    }\n",
       "</style>\n",
       "<table border=\"1\" class=\"dataframe\">\n",
       "  <thead>\n",
       "    <tr style=\"text-align: right;\">\n",
       "      <th></th>\n",
       "      <th>name</th>\n",
       "      <th>year</th>\n",
       "      <th>selling_price</th>\n",
       "      <th>km_driven</th>\n",
       "      <th>fuel</th>\n",
       "      <th>transmission</th>\n",
       "    </tr>\n",
       "  </thead>\n",
       "  <tbody>\n",
       "    <tr>\n",
       "      <th>0</th>\n",
       "      <td>Hyundai</td>\n",
       "      <td>2017</td>\n",
       "      <td>5,25,000</td>\n",
       "      <td>2,200 km</td>\n",
       "      <td>Petrol</td>\n",
       "      <td>Manual</td>\n",
       "    </tr>\n",
       "    <tr>\n",
       "      <th>1</th>\n",
       "      <td>Hyundai</td>\n",
       "      <td>2013</td>\n",
       "      <td>5,95,000</td>\n",
       "      <td>91,500 km</td>\n",
       "      <td>Diesel</td>\n",
       "      <td>Manual</td>\n",
       "    </tr>\n",
       "    <tr>\n",
       "      <th>2</th>\n",
       "      <td>Ford</td>\n",
       "      <td>2017</td>\n",
       "      <td>7,75,000</td>\n",
       "      <td>36,000 km</td>\n",
       "      <td>Diesel</td>\n",
       "      <td>Manual</td>\n",
       "    </tr>\n",
       "    <tr>\n",
       "      <th>3</th>\n",
       "      <td>Honda</td>\n",
       "      <td>2015</td>\n",
       "      <td>4,00,000</td>\n",
       "      <td>90,000 km</td>\n",
       "      <td>Diesel</td>\n",
       "      <td>Manual</td>\n",
       "    </tr>\n",
       "    <tr>\n",
       "      <th>4</th>\n",
       "      <td>Maruti Suzuki</td>\n",
       "      <td>2010</td>\n",
       "      <td>2,30,000</td>\n",
       "      <td>40,000 km</td>\n",
       "      <td>Petrol</td>\n",
       "      <td>Manual</td>\n",
       "    </tr>\n",
       "  </tbody>\n",
       "</table>\n",
       "</div>"
      ],
      "text/plain": [
       "            name  year selling_price  km_driven    fuel transmission\n",
       "0        Hyundai  2017      5,25,000   2,200 km  Petrol       Manual\n",
       "1        Hyundai  2013      5,95,000  91,500 km  Diesel       Manual\n",
       "2           Ford  2017      7,75,000  36,000 km  Diesel       Manual\n",
       "3          Honda  2015      4,00,000  90,000 km  Diesel       Manual\n",
       "4  Maruti Suzuki  2010      2,30,000  40,000 km  Petrol       Manual"
      ]
     },
     "execution_count": 4,
     "metadata": {},
     "output_type": "execute_result"
    }
   ],
   "source": [
    "#Dropping Unnamed: 0 column\n",
    "df.drop(['Unnamed: 0'],axis=1,inplace=True)\n",
    "df.head()  #Checking the dataset after dropping"
   ]
  },
  {
   "cell_type": "code",
   "execution_count": 5,
   "id": "4ccd14f6",
   "metadata": {},
   "outputs": [
    {
     "data": {
      "text/plain": [
       "name             object\n",
       "year             object\n",
       "selling_price    object\n",
       "km_driven        object\n",
       "fuel             object\n",
       "transmission     object\n",
       "dtype: object"
      ]
     },
     "execution_count": 5,
     "metadata": {},
     "output_type": "execute_result"
    }
   ],
   "source": [
    "df.dtypes"
   ]
  },
  {
   "cell_type": "markdown",
   "id": "abcc4e7d",
   "metadata": {},
   "source": [
    "We can see that all the data has been of object datatype and we need to convert them into numerical data before the model building process."
   ]
  },
  {
   "cell_type": "code",
   "execution_count": 6,
   "id": "05755a89",
   "metadata": {},
   "outputs": [
    {
     "data": {
      "text/plain": [
       "name             0\n",
       "year             0\n",
       "selling_price    0\n",
       "km_driven        0\n",
       "fuel             0\n",
       "transmission     0\n",
       "dtype: int64"
      ]
     },
     "execution_count": 6,
     "metadata": {},
     "output_type": "execute_result"
    }
   ],
   "source": [
    "#Checking for missing data\n",
    "df.isnull().sum()"
   ]
  },
  {
   "cell_type": "markdown",
   "id": "8d38892c",
   "metadata": {},
   "source": [
    "As we can see, there are no null values in the dataset and we can proceed further"
   ]
  },
  {
   "cell_type": "code",
   "execution_count": 7,
   "id": "286e9ab8",
   "metadata": {},
   "outputs": [
    {
     "data": {
      "text/plain": [
       "<AxesSubplot:>"
      ]
     },
     "execution_count": 7,
     "metadata": {},
     "output_type": "execute_result"
    },
    {
     "data": {
      "image/png": "[encoded data removed]",
      "text/plain": [
       "<Figure size 432x288 with 2 Axes>"
      ]
     },
     "metadata": {
      "needs_background": "light"
     },
     "output_type": "display_data"
    }
   ],
   "source": [
    "#Plotting heatmap for missing data\n",
    "sns.heatmap(df.isnull(),annot=True)"
   ]
  },
  {
   "cell_type": "markdown",
   "id": "f29f8359",
   "metadata": {},
   "source": [
    "# Data Cleaning"
   ]
  },
  {
   "cell_type": "markdown",
   "id": "1b7fb3ea",
   "metadata": {},
   "source": [
    "We need to clean the data for doing the data analysis process and there are commas, words in the numerical data which we need to handle."
   ]
  },
  {
   "cell_type": "code",
   "execution_count": 8,
   "id": "bfceabbd",
   "metadata": {},
   "outputs": [],
   "source": [
    "#Copying the dataframe\n",
    "df1=df.copy()"
   ]
  },
  {
   "cell_type": "code",
   "execution_count": 9,
   "id": "1919caab",
   "metadata": {},
   "outputs": [
    {
     "data": {
      "text/html": [
       "<div>\n",
       "<style scoped>\n",
       "    .dataframe tbody tr th:only-of-type {\n",
       "        vertical-align: middle;\n",
       "    }\n",
       "\n",
       "    .dataframe tbody tr th {\n",
       "        vertical-align: top;\n",
       "    }\n",
       "\n",
       "    .dataframe thead th {\n",
       "        text-align: right;\n",
       "    }\n",
       "</style>\n",
       "<table border=\"1\" class=\"dataframe\">\n",
       "  <thead>\n",
       "    <tr style=\"text-align: right;\">\n",
       "      <th></th>\n",
       "      <th>name</th>\n",
       "      <th>year</th>\n",
       "      <th>selling_price</th>\n",
       "      <th>km_driven</th>\n",
       "      <th>fuel</th>\n",
       "      <th>transmission</th>\n",
       "    </tr>\n",
       "  </thead>\n",
       "  <tbody>\n",
       "    <tr>\n",
       "      <th>0</th>\n",
       "      <td>Hyundai</td>\n",
       "      <td>2017</td>\n",
       "      <td>5,25,000</td>\n",
       "      <td>2200 km</td>\n",
       "      <td>Petrol</td>\n",
       "      <td>Manual</td>\n",
       "    </tr>\n",
       "    <tr>\n",
       "      <th>1</th>\n",
       "      <td>Hyundai</td>\n",
       "      <td>2013</td>\n",
       "      <td>5,95,000</td>\n",
       "      <td>91500 km</td>\n",
       "      <td>Diesel</td>\n",
       "      <td>Manual</td>\n",
       "    </tr>\n",
       "    <tr>\n",
       "      <th>2</th>\n",
       "      <td>Ford</td>\n",
       "      <td>2017</td>\n",
       "      <td>7,75,000</td>\n",
       "      <td>36000 km</td>\n",
       "      <td>Diesel</td>\n",
       "      <td>Manual</td>\n",
       "    </tr>\n",
       "    <tr>\n",
       "      <th>3</th>\n",
       "      <td>Honda</td>\n",
       "      <td>2015</td>\n",
       "      <td>4,00,000</td>\n",
       "      <td>90000 km</td>\n",
       "      <td>Diesel</td>\n",
       "      <td>Manual</td>\n",
       "    </tr>\n",
       "    <tr>\n",
       "      <th>4</th>\n",
       "      <td>Maruti Suzuki</td>\n",
       "      <td>2010</td>\n",
       "      <td>2,30,000</td>\n",
       "      <td>40000 km</td>\n",
       "      <td>Petrol</td>\n",
       "      <td>Manual</td>\n",
       "    </tr>\n",
       "  </tbody>\n",
       "</table>\n",
       "</div>"
      ],
      "text/plain": [
       "            name  year selling_price km_driven    fuel transmission\n",
       "0        Hyundai  2017      5,25,000   2200 km  Petrol       Manual\n",
       "1        Hyundai  2013      5,95,000  91500 km  Diesel       Manual\n",
       "2           Ford  2017      7,75,000  36000 km  Diesel       Manual\n",
       "3          Honda  2015      4,00,000  90000 km  Diesel       Manual\n",
       "4  Maruti Suzuki  2010      2,30,000  40000 km  Petrol       Manual"
      ]
     },
     "execution_count": 9,
     "metadata": {},
     "output_type": "execute_result"
    }
   ],
   "source": [
    "#Removing ',' from km_driven column\n",
    "df1['km_driven']=df1['km_driven'].apply(lambda x: x.replace(',','') if x!='-' else '-')\n",
    "df1.head()"
   ]
  },
  {
   "cell_type": "code",
   "execution_count": 10,
   "id": "0c7203d5",
   "metadata": {},
   "outputs": [
    {
     "data": {
      "text/html": [
       "<div>\n",
       "<style scoped>\n",
       "    .dataframe tbody tr th:only-of-type {\n",
       "        vertical-align: middle;\n",
       "    }\n",
       "\n",
       "    .dataframe tbody tr th {\n",
       "        vertical-align: top;\n",
       "    }\n",
       "\n",
       "    .dataframe thead th {\n",
       "        text-align: right;\n",
       "    }\n",
       "</style>\n",
       "<table border=\"1\" class=\"dataframe\">\n",
       "  <thead>\n",
       "    <tr style=\"text-align: right;\">\n",
       "      <th></th>\n",
       "      <th>name</th>\n",
       "      <th>year</th>\n",
       "      <th>selling_price</th>\n",
       "      <th>km_driven</th>\n",
       "      <th>fuel</th>\n",
       "      <th>transmission</th>\n",
       "    </tr>\n",
       "  </thead>\n",
       "  <tbody>\n",
       "    <tr>\n",
       "      <th>0</th>\n",
       "      <td>Hyundai</td>\n",
       "      <td>2017</td>\n",
       "      <td>5,25,000</td>\n",
       "      <td>2200</td>\n",
       "      <td>Petrol</td>\n",
       "      <td>Manual</td>\n",
       "    </tr>\n",
       "    <tr>\n",
       "      <th>1</th>\n",
       "      <td>Hyundai</td>\n",
       "      <td>2013</td>\n",
       "      <td>5,95,000</td>\n",
       "      <td>91500</td>\n",
       "      <td>Diesel</td>\n",
       "      <td>Manual</td>\n",
       "    </tr>\n",
       "    <tr>\n",
       "      <th>2</th>\n",
       "      <td>Ford</td>\n",
       "      <td>2017</td>\n",
       "      <td>7,75,000</td>\n",
       "      <td>36000</td>\n",
       "      <td>Diesel</td>\n",
       "      <td>Manual</td>\n",
       "    </tr>\n",
       "    <tr>\n",
       "      <th>3</th>\n",
       "      <td>Honda</td>\n",
       "      <td>2015</td>\n",
       "      <td>4,00,000</td>\n",
       "      <td>90000</td>\n",
       "      <td>Diesel</td>\n",
       "      <td>Manual</td>\n",
       "    </tr>\n",
       "    <tr>\n",
       "      <th>4</th>\n",
       "      <td>Maruti Suzuki</td>\n",
       "      <td>2010</td>\n",
       "      <td>2,30,000</td>\n",
       "      <td>40000</td>\n",
       "      <td>Petrol</td>\n",
       "      <td>Manual</td>\n",
       "    </tr>\n",
       "  </tbody>\n",
       "</table>\n",
       "</div>"
      ],
      "text/plain": [
       "            name  year selling_price  km_driven    fuel transmission\n",
       "0        Hyundai  2017      5,25,000       2200  Petrol       Manual\n",
       "1        Hyundai  2013      5,95,000      91500  Diesel       Manual\n",
       "2           Ford  2017      7,75,000      36000  Diesel       Manual\n",
       "3          Honda  2015      4,00,000      90000  Diesel       Manual\n",
       "4  Maruti Suzuki  2010      2,30,000      40000  Petrol       Manual"
      ]
     },
     "execution_count": 10,
     "metadata": {},
     "output_type": "execute_result"
    }
   ],
   "source": [
    "#Removing km word from km_driven\n",
    "df1['km_driven']=df1['km_driven'].apply(lambda x: int(x.split(' ')[0]) if x!='-' else 0)\n",
    "df1.head()  #Checking the dataset after removing"
   ]
  },
  {
   "cell_type": "code",
   "execution_count": 11,
   "id": "cc3d9a7b",
   "metadata": {},
   "outputs": [],
   "source": [
    "try:\n",
    "    df1['selling_price']=df1['selling_price'].apply(lambda x: x.split(' ')[1] if x!='-' else '0,0')\n",
    "except IndexError:\n",
    "    pass"
   ]
  },
  {
   "cell_type": "code",
   "execution_count": 12,
   "id": "132e9e53",
   "metadata": {},
   "outputs": [],
   "source": [
    "try:\n",
    "    df1['selling_price']=df1['selling_price'].apply(lambda x: str(x.replace(',', '')))\n",
    "except ValueError:\n",
    "    pass"
   ]
  },
  {
   "cell_type": "code",
   "execution_count": 13,
   "id": "0a5036ae",
   "metadata": {},
   "outputs": [
    {
     "data": {
      "text/html": [
       "<div>\n",
       "<style scoped>\n",
       "    .dataframe tbody tr th:only-of-type {\n",
       "        vertical-align: middle;\n",
       "    }\n",
       "\n",
       "    .dataframe tbody tr th {\n",
       "        vertical-align: top;\n",
       "    }\n",
       "\n",
       "    .dataframe thead th {\n",
       "        text-align: right;\n",
       "    }\n",
       "</style>\n",
       "<table border=\"1\" class=\"dataframe\">\n",
       "  <thead>\n",
       "    <tr style=\"text-align: right;\">\n",
       "      <th></th>\n",
       "      <th>name</th>\n",
       "      <th>year</th>\n",
       "      <th>selling_price</th>\n",
       "      <th>km_driven</th>\n",
       "      <th>fuel</th>\n",
       "      <th>transmission</th>\n",
       "    </tr>\n",
       "  </thead>\n",
       "  <tbody>\n",
       "    <tr>\n",
       "      <th>0</th>\n",
       "      <td>Hyundai</td>\n",
       "      <td>2017</td>\n",
       "      <td>525000</td>\n",
       "      <td>2200</td>\n",
       "      <td>Petrol</td>\n",
       "      <td>Manual</td>\n",
       "    </tr>\n",
       "    <tr>\n",
       "      <th>1</th>\n",
       "      <td>Hyundai</td>\n",
       "      <td>2013</td>\n",
       "      <td>595000</td>\n",
       "      <td>91500</td>\n",
       "      <td>Diesel</td>\n",
       "      <td>Manual</td>\n",
       "    </tr>\n",
       "    <tr>\n",
       "      <th>2</th>\n",
       "      <td>Ford</td>\n",
       "      <td>2017</td>\n",
       "      <td>775000</td>\n",
       "      <td>36000</td>\n",
       "      <td>Diesel</td>\n",
       "      <td>Manual</td>\n",
       "    </tr>\n",
       "    <tr>\n",
       "      <th>3</th>\n",
       "      <td>Honda</td>\n",
       "      <td>2015</td>\n",
       "      <td>400000</td>\n",
       "      <td>90000</td>\n",
       "      <td>Diesel</td>\n",
       "      <td>Manual</td>\n",
       "    </tr>\n",
       "    <tr>\n",
       "      <th>4</th>\n",
       "      <td>Maruti Suzuki</td>\n",
       "      <td>2010</td>\n",
       "      <td>230000</td>\n",
       "      <td>40000</td>\n",
       "      <td>Petrol</td>\n",
       "      <td>Manual</td>\n",
       "    </tr>\n",
       "  </tbody>\n",
       "</table>\n",
       "</div>"
      ],
      "text/plain": [
       "            name  year selling_price  km_driven    fuel transmission\n",
       "0        Hyundai  2017        525000       2200  Petrol       Manual\n",
       "1        Hyundai  2013        595000      91500  Diesel       Manual\n",
       "2           Ford  2017        775000      36000  Diesel       Manual\n",
       "3          Honda  2015        400000      90000  Diesel       Manual\n",
       "4  Maruti Suzuki  2010        230000      40000  Petrol       Manual"
      ]
     },
     "execution_count": 13,
     "metadata": {},
     "output_type": "execute_result"
    }
   ],
   "source": [
    "df1.head()"
   ]
  },
  {
   "cell_type": "code",
   "execution_count": 14,
   "id": "b10a2e52",
   "metadata": {},
   "outputs": [],
   "source": [
    "df1['selling_price']=df1['selling_price'].str.strip()  #Removing the starting space from the string"
   ]
  },
  {
   "cell_type": "code",
   "execution_count": 15,
   "id": "61799dce",
   "metadata": {},
   "outputs": [],
   "source": [
    "df1['selling_price']=pd.to_numeric(df1['selling_price'].str.replace('-','0'), errors='coerce')  #Converting str to int"
   ]
  },
  {
   "cell_type": "code",
   "execution_count": 16,
   "id": "43ccd65b",
   "metadata": {},
   "outputs": [],
   "source": [
    "df1['selling_price']=df1.selling_price.astype(float)  #Converting int to float"
   ]
  },
  {
   "cell_type": "code",
   "execution_count": 17,
   "id": "bc61ab8e",
   "metadata": {},
   "outputs": [
    {
     "data": {
      "text/plain": [
       "name              object\n",
       "year              object\n",
       "selling_price    float64\n",
       "km_driven          int64\n",
       "fuel              object\n",
       "transmission      object\n",
       "dtype: object"
      ]
     },
     "execution_count": 17,
     "metadata": {},
     "output_type": "execute_result"
    }
   ],
   "source": [
    "df1.dtypes"
   ]
  },
  {
   "cell_type": "code",
   "execution_count": 18,
   "id": "fb2ab839",
   "metadata": {},
   "outputs": [],
   "source": [
    "#Handling year column\n",
    "df1['year']=df1['year'].apply(lambda x: int(x.strip()[0:4]) if x!='-' else 0)"
   ]
  },
  {
   "cell_type": "code",
   "execution_count": 19,
   "id": "938d09b0",
   "metadata": {},
   "outputs": [
    {
     "data": {
      "text/plain": [
       "2014.0"
      ]
     },
     "execution_count": 19,
     "metadata": {},
     "output_type": "execute_result"
    }
   ],
   "source": [
    "med_years=df1['year'].median()  #Finding the median value\n",
    "med_years"
   ]
  },
  {
   "cell_type": "code",
   "execution_count": 20,
   "id": "b4104316",
   "metadata": {},
   "outputs": [],
   "source": [
    "df1['year']=df1['year'].apply(lambda x: x if x!=0 else med_years)  #Replacing 0 with median value"
   ]
  },
  {
   "cell_type": "code",
   "execution_count": 21,
   "id": "d96e1c7b",
   "metadata": {},
   "outputs": [
    {
     "data": {
      "text/html": [
       "<div>\n",
       "<style scoped>\n",
       "    .dataframe tbody tr th:only-of-type {\n",
       "        vertical-align: middle;\n",
       "    }\n",
       "\n",
       "    .dataframe tbody tr th {\n",
       "        vertical-align: top;\n",
       "    }\n",
       "\n",
       "    .dataframe thead th {\n",
       "        text-align: right;\n",
       "    }\n",
       "</style>\n",
       "<table border=\"1\" class=\"dataframe\">\n",
       "  <thead>\n",
       "    <tr style=\"text-align: right;\">\n",
       "      <th></th>\n",
       "      <th>name</th>\n",
       "      <th>year</th>\n",
       "      <th>selling_price</th>\n",
       "      <th>km_driven</th>\n",
       "      <th>fuel</th>\n",
       "      <th>transmission</th>\n",
       "    </tr>\n",
       "  </thead>\n",
       "  <tbody>\n",
       "    <tr>\n",
       "      <th>0</th>\n",
       "      <td>Hyundai</td>\n",
       "      <td>2017.0</td>\n",
       "      <td>525000.0</td>\n",
       "      <td>2200</td>\n",
       "      <td>Petrol</td>\n",
       "      <td>Manual</td>\n",
       "    </tr>\n",
       "    <tr>\n",
       "      <th>1</th>\n",
       "      <td>Hyundai</td>\n",
       "      <td>2013.0</td>\n",
       "      <td>595000.0</td>\n",
       "      <td>91500</td>\n",
       "      <td>Diesel</td>\n",
       "      <td>Manual</td>\n",
       "    </tr>\n",
       "    <tr>\n",
       "      <th>2</th>\n",
       "      <td>Ford</td>\n",
       "      <td>2017.0</td>\n",
       "      <td>775000.0</td>\n",
       "      <td>36000</td>\n",
       "      <td>Diesel</td>\n",
       "      <td>Manual</td>\n",
       "    </tr>\n",
       "    <tr>\n",
       "      <th>3</th>\n",
       "      <td>Honda</td>\n",
       "      <td>2015.0</td>\n",
       "      <td>400000.0</td>\n",
       "      <td>90000</td>\n",
       "      <td>Diesel</td>\n",
       "      <td>Manual</td>\n",
       "    </tr>\n",
       "    <tr>\n",
       "      <th>4</th>\n",
       "      <td>Maruti Suzuki</td>\n",
       "      <td>2010.0</td>\n",
       "      <td>230000.0</td>\n",
       "      <td>40000</td>\n",
       "      <td>Petrol</td>\n",
       "      <td>Manual</td>\n",
       "    </tr>\n",
       "  </tbody>\n",
       "</table>\n",
       "</div>"
      ],
      "text/plain": [
       "            name    year  selling_price  km_driven    fuel transmission\n",
       "0        Hyundai  2017.0       525000.0       2200  Petrol       Manual\n",
       "1        Hyundai  2013.0       595000.0      91500  Diesel       Manual\n",
       "2           Ford  2017.0       775000.0      36000  Diesel       Manual\n",
       "3          Honda  2015.0       400000.0      90000  Diesel       Manual\n",
       "4  Maruti Suzuki  2010.0       230000.0      40000  Petrol       Manual"
      ]
     },
     "execution_count": 21,
     "metadata": {},
     "output_type": "execute_result"
    }
   ],
   "source": [
    "df1.head()   #Checking the dataset"
   ]
  },
  {
   "cell_type": "code",
   "execution_count": 22,
   "id": "f0760db3",
   "metadata": {},
   "outputs": [],
   "source": [
    "df1['year']=df1['year'].astype(int)   #Converting again into int"
   ]
  },
  {
   "cell_type": "code",
   "execution_count": 23,
   "id": "cf42d7d2",
   "metadata": {},
   "outputs": [
    {
     "data": {
      "text/plain": [
       "name              object\n",
       "year               int32\n",
       "selling_price    float64\n",
       "km_driven          int64\n",
       "fuel              object\n",
       "transmission      object\n",
       "dtype: object"
      ]
     },
     "execution_count": 23,
     "metadata": {},
     "output_type": "execute_result"
    }
   ],
   "source": [
    "df1.dtypes"
   ]
  },
  {
   "cell_type": "code",
   "execution_count": 24,
   "id": "06960070",
   "metadata": {},
   "outputs": [
    {
     "data": {
      "text/plain": [
       "Diesel           5345\n",
       "Petrol           4386\n",
       "CNG & Hybrids     108\n",
       "CNG                57\n",
       "-                  56\n",
       "LPG                48\n",
       "Name: fuel, dtype: int64"
      ]
     },
     "execution_count": 24,
     "metadata": {},
     "output_type": "execute_result"
    }
   ],
   "source": [
    "#Handling fuel data\n",
    "df1['fuel'].value_counts()"
   ]
  },
  {
   "cell_type": "code",
   "execution_count": 25,
   "id": "06f73860",
   "metadata": {},
   "outputs": [
    {
     "data": {
      "text/plain": [
       "0    Diesel\n",
       "dtype: object"
      ]
     },
     "execution_count": 25,
     "metadata": {},
     "output_type": "execute_result"
    }
   ],
   "source": [
    "#Calculating mode\n",
    "tmode=df1['fuel'].mode()\n",
    "tmode"
   ]
  },
  {
   "cell_type": "code",
   "execution_count": 26,
   "id": "2a4fb587",
   "metadata": {},
   "outputs": [
    {
     "data": {
      "text/plain": [
       "array(['Petrol', 'Diesel', 'Other', 'CNG & Hybrids', 'LPG', 'CNG'],\n",
       "      dtype=object)"
      ]
     },
     "execution_count": 26,
     "metadata": {},
     "output_type": "execute_result"
    }
   ],
   "source": [
    "#Replacing - with Other kind of fuel\n",
    "df1['fuel']=df1['fuel'].apply(lambda x: x if x!='-' else 'Other')\n",
    "\n",
    "#Checking the data\n",
    "df1['fuel'].unique()"
   ]
  },
  {
   "cell_type": "code",
   "execution_count": 27,
   "id": "af1d9bc6",
   "metadata": {},
   "outputs": [
    {
     "data": {
      "text/plain": [
       "Manual       8408\n",
       "Automatic    1402\n",
       "-             190\n",
       "Name: transmission, dtype: int64"
      ]
     },
     "execution_count": 27,
     "metadata": {},
     "output_type": "execute_result"
    }
   ],
   "source": [
    "#Handling transmission data\n",
    "df1['transmission'].value_counts()"
   ]
  },
  {
   "cell_type": "code",
   "execution_count": 28,
   "id": "9c8b0501",
   "metadata": {},
   "outputs": [
    {
     "data": {
      "text/plain": [
       "array(['Manual', 'Automatic'], dtype=object)"
      ]
     },
     "execution_count": 28,
     "metadata": {},
     "output_type": "execute_result"
    }
   ],
   "source": [
    "#Replacing - with Manual \n",
    "df1['transmission']=df1['transmission'].apply(lambda x: x if x!='-' else 'Manual')\n",
    "\n",
    "#Checking the data\n",
    "df1['transmission'].unique()"
   ]
  },
  {
   "cell_type": "code",
   "execution_count": 29,
   "id": "6db0e704",
   "metadata": {},
   "outputs": [
    {
     "data": {
      "text/plain": [
       "Maruti Suzuki                              602\n",
       "Hyundai                                    348\n",
       "Honda                                      132\n",
       "Maruti Swift Dzire VDI                     128\n",
       "Mahindra                                   128\n",
       "                                          ... \n",
       "Mahindra Scorpio VLX 2WD AIRBAG AT BSIV      1\n",
       "Hyundai Accent GLX                           1\n",
       "Toyota Platinum Etios 1.4 GD                 1\n",
       "Mahindra Bolero DI Non AC BSIII              1\n",
       "Hyundai Santro Xing XK eRLX EuroIII          1\n",
       "Name: name, Length: 2056, dtype: int64"
      ]
     },
     "execution_count": 29,
     "metadata": {},
     "output_type": "execute_result"
    }
   ],
   "source": [
    "#Handling the car name\n",
    "df1['name'].value_counts()"
   ]
  },
  {
   "cell_type": "markdown",
   "id": "1c9ee250",
   "metadata": {},
   "source": [
    "While scraping the data, we found that there were some missing data which was replaced by - . Now, we can replace them by the car name with max weightage."
   ]
  },
  {
   "cell_type": "code",
   "execution_count": 30,
   "id": "62081a44",
   "metadata": {},
   "outputs": [
    {
     "data": {
      "text/plain": [
       "Maruti Suzuki                              602\n",
       "Hyundai                                    392\n",
       "Honda                                      132\n",
       "Mahindra                                   128\n",
       "Maruti Swift Dzire VDI                     128\n",
       "                                          ... \n",
       "Mahindra Scorpio VLX 2WD AIRBAG AT BSIV      1\n",
       "Hyundai Accent GLX                           1\n",
       "Toyota Platinum Etios 1.4 GD                 1\n",
       "Mahindra Bolero DI Non AC BSIII              1\n",
       "Hyundai Santro Xing XK eRLX EuroIII          1\n",
       "Name: name, Length: 2055, dtype: int64"
      ]
     },
     "execution_count": 30,
     "metadata": {},
     "output_type": "execute_result"
    }
   ],
   "source": [
    "#Replacing - with Hyundai \n",
    "df1['name']=df1['name'].apply(lambda x: x if x!='-' else 'Hyundai')\n",
    "\n",
    "#Checking the data\n",
    "df1['name'].value_counts()"
   ]
  },
  {
   "cell_type": "code",
   "execution_count": 31,
   "id": "afc89f86",
   "metadata": {},
   "outputs": [
    {
     "data": {
      "text/html": [
       "<div>\n",
       "<style scoped>\n",
       "    .dataframe tbody tr th:only-of-type {\n",
       "        vertical-align: middle;\n",
       "    }\n",
       "\n",
       "    .dataframe tbody tr th {\n",
       "        vertical-align: top;\n",
       "    }\n",
       "\n",
       "    .dataframe thead th {\n",
       "        text-align: right;\n",
       "    }\n",
       "</style>\n",
       "<table border=\"1\" class=\"dataframe\">\n",
       "  <thead>\n",
       "    <tr style=\"text-align: right;\">\n",
       "      <th></th>\n",
       "      <th>name</th>\n",
       "      <th>year</th>\n",
       "      <th>selling_price</th>\n",
       "      <th>km_driven</th>\n",
       "      <th>fuel</th>\n",
       "      <th>transmission</th>\n",
       "    </tr>\n",
       "  </thead>\n",
       "  <tbody>\n",
       "    <tr>\n",
       "      <th>0</th>\n",
       "      <td>Hyundai</td>\n",
       "      <td>2017</td>\n",
       "      <td>525000.0</td>\n",
       "      <td>2200</td>\n",
       "      <td>Petrol</td>\n",
       "      <td>Manual</td>\n",
       "    </tr>\n",
       "    <tr>\n",
       "      <th>1</th>\n",
       "      <td>Hyundai</td>\n",
       "      <td>2013</td>\n",
       "      <td>595000.0</td>\n",
       "      <td>91500</td>\n",
       "      <td>Diesel</td>\n",
       "      <td>Manual</td>\n",
       "    </tr>\n",
       "    <tr>\n",
       "      <th>2</th>\n",
       "      <td>Ford</td>\n",
       "      <td>2017</td>\n",
       "      <td>775000.0</td>\n",
       "      <td>36000</td>\n",
       "      <td>Diesel</td>\n",
       "      <td>Manual</td>\n",
       "    </tr>\n",
       "    <tr>\n",
       "      <th>3</th>\n",
       "      <td>Honda</td>\n",
       "      <td>2015</td>\n",
       "      <td>400000.0</td>\n",
       "      <td>90000</td>\n",
       "      <td>Diesel</td>\n",
       "      <td>Manual</td>\n",
       "    </tr>\n",
       "    <tr>\n",
       "      <th>4</th>\n",
       "      <td>Maruti Suzuki</td>\n",
       "      <td>2010</td>\n",
       "      <td>230000.0</td>\n",
       "      <td>40000</td>\n",
       "      <td>Petrol</td>\n",
       "      <td>Manual</td>\n",
       "    </tr>\n",
       "  </tbody>\n",
       "</table>\n",
       "</div>"
      ],
      "text/plain": [
       "            name  year  selling_price  km_driven    fuel transmission\n",
       "0        Hyundai  2017       525000.0       2200  Petrol       Manual\n",
       "1        Hyundai  2013       595000.0      91500  Diesel       Manual\n",
       "2           Ford  2017       775000.0      36000  Diesel       Manual\n",
       "3          Honda  2015       400000.0      90000  Diesel       Manual\n",
       "4  Maruti Suzuki  2010       230000.0      40000  Petrol       Manual"
      ]
     },
     "execution_count": 31,
     "metadata": {},
     "output_type": "execute_result"
    }
   ],
   "source": [
    "#Checking the dataframe\n",
    "df1.head()"
   ]
  },
  {
   "cell_type": "code",
   "execution_count": 32,
   "id": "5a222fd0",
   "metadata": {},
   "outputs": [],
   "source": [
    "#Copying the dataframe\n",
    "df=df1.copy()"
   ]
  },
  {
   "cell_type": "code",
   "execution_count": 33,
   "id": "ad525b7b",
   "metadata": {},
   "outputs": [
    {
     "data": {
      "text/html": [
       "<div>\n",
       "<style scoped>\n",
       "    .dataframe tbody tr th:only-of-type {\n",
       "        vertical-align: middle;\n",
       "    }\n",
       "\n",
       "    .dataframe tbody tr th {\n",
       "        vertical-align: top;\n",
       "    }\n",
       "\n",
       "    .dataframe thead th {\n",
       "        text-align: right;\n",
       "    }\n",
       "</style>\n",
       "<table border=\"1\" class=\"dataframe\">\n",
       "  <thead>\n",
       "    <tr style=\"text-align: right;\">\n",
       "      <th></th>\n",
       "      <th>name</th>\n",
       "      <th>year</th>\n",
       "      <th>selling_price</th>\n",
       "      <th>km_driven</th>\n",
       "      <th>fuel</th>\n",
       "      <th>transmission</th>\n",
       "    </tr>\n",
       "  </thead>\n",
       "  <tbody>\n",
       "    <tr>\n",
       "      <th>0</th>\n",
       "      <td>Hyundai</td>\n",
       "      <td>2017</td>\n",
       "      <td>525000.0</td>\n",
       "      <td>2200</td>\n",
       "      <td>Petrol</td>\n",
       "      <td>Manual</td>\n",
       "    </tr>\n",
       "    <tr>\n",
       "      <th>1</th>\n",
       "      <td>Hyundai</td>\n",
       "      <td>2013</td>\n",
       "      <td>595000.0</td>\n",
       "      <td>91500</td>\n",
       "      <td>Diesel</td>\n",
       "      <td>Manual</td>\n",
       "    </tr>\n",
       "    <tr>\n",
       "      <th>2</th>\n",
       "      <td>Ford</td>\n",
       "      <td>2017</td>\n",
       "      <td>775000.0</td>\n",
       "      <td>36000</td>\n",
       "      <td>Diesel</td>\n",
       "      <td>Manual</td>\n",
       "    </tr>\n",
       "    <tr>\n",
       "      <th>3</th>\n",
       "      <td>Honda</td>\n",
       "      <td>2015</td>\n",
       "      <td>400000.0</td>\n",
       "      <td>90000</td>\n",
       "      <td>Diesel</td>\n",
       "      <td>Manual</td>\n",
       "    </tr>\n",
       "    <tr>\n",
       "      <th>4</th>\n",
       "      <td>Maruti Suzuki</td>\n",
       "      <td>2010</td>\n",
       "      <td>230000.0</td>\n",
       "      <td>40000</td>\n",
       "      <td>Petrol</td>\n",
       "      <td>Manual</td>\n",
       "    </tr>\n",
       "  </tbody>\n",
       "</table>\n",
       "</div>"
      ],
      "text/plain": [
       "            name  year  selling_price  km_driven    fuel transmission\n",
       "0        Hyundai  2017       525000.0       2200  Petrol       Manual\n",
       "1        Hyundai  2013       595000.0      91500  Diesel       Manual\n",
       "2           Ford  2017       775000.0      36000  Diesel       Manual\n",
       "3          Honda  2015       400000.0      90000  Diesel       Manual\n",
       "4  Maruti Suzuki  2010       230000.0      40000  Petrol       Manual"
      ]
     },
     "execution_count": 33,
     "metadata": {},
     "output_type": "execute_result"
    }
   ],
   "source": [
    "df.head()"
   ]
  },
  {
   "cell_type": "markdown",
   "id": "a98ced5a",
   "metadata": {},
   "source": [
    "We can see that all the data has been handled and cleaned and after this step, we can proceed further with data analysis steps."
   ]
  },
  {
   "cell_type": "markdown",
   "id": "7d623763",
   "metadata": {},
   "source": [
    "# Exploratory Data Analysis"
   ]
  },
  {
   "cell_type": "markdown",
   "id": "f8d146b7",
   "metadata": {},
   "source": [
    "Univariate and Bivariate Analysis"
   ]
  },
  {
   "cell_type": "code",
   "execution_count": 34,
   "id": "26d0a6da",
   "metadata": {},
   "outputs": [
    {
     "name": "stdout",
     "output_type": "stream",
     "text": [
      "Diesel           5345\n",
      "Petrol           4386\n",
      "CNG & Hybrids     108\n",
      "CNG                57\n",
      "Other              56\n",
      "LPG                48\n",
      "Name: fuel, dtype: int64\n"
     ]
    },
    {
     "data": {
      "text/plain": [
       "<AxesSubplot:xlabel='fuel', ylabel='count'>"
      ]
     },
     "execution_count": 34,
     "metadata": {},
     "output_type": "execute_result"
    },
    {
     "data": {
      "image/png": "[encoded data removed]",
      "text/plain": [
       "<Figure size 432x288 with 1 Axes>"
      ]
     },
     "metadata": {
      "needs_background": "light"
     },
     "output_type": "display_data"
    }
   ],
   "source": [
    "#Plotting the countplot for fuel\n",
    "print(df['fuel'].value_counts())\n",
    "sns.countplot(df['fuel'])"
   ]
  },
  {
   "cell_type": "markdown",
   "id": "d7812287",
   "metadata": {},
   "source": [
    "We can see that Diesel and Petrol are the maximum fuels used by cars, whereas CNG and LPG are the least used."
   ]
  },
  {
   "cell_type": "code",
   "execution_count": 35,
   "id": "b3dbd187",
   "metadata": {},
   "outputs": [
    {
     "name": "stdout",
     "output_type": "stream",
     "text": [
      "Manual       8598\n",
      "Automatic    1402\n",
      "Name: transmission, dtype: int64\n"
     ]
    },
    {
     "data": {
      "text/plain": [
       "<AxesSubplot:xlabel='transmission', ylabel='count'>"
      ]
     },
     "execution_count": 35,
     "metadata": {},
     "output_type": "execute_result"
    },
    {
     "data": {
      "image/png": "[encoded data removed]",
      "text/plain": [
       "<Figure size 432x288 with 1 Axes>"
      ]
     },
     "metadata": {
      "needs_background": "light"
     },
     "output_type": "display_data"
    }
   ],
   "source": [
    "#Plotting the countplot for transmission\n",
    "print(df['transmission'].value_counts())\n",
    "sns.countplot(df['transmission'])"
   ]
  },
  {
   "cell_type": "markdown",
   "id": "ad399bbd",
   "metadata": {},
   "source": [
    "Most of the cars have manual transmission as the highest weightage"
   ]
  },
  {
   "cell_type": "code",
   "execution_count": 36,
   "id": "045ea212",
   "metadata": {},
   "outputs": [
    {
     "name": "stdout",
     "output_type": "stream",
     "text": [
      "2017    1099\n",
      "2016    1021\n",
      "2018     983\n",
      "2015     975\n",
      "2012     844\n",
      "2014     842\n",
      "2013     802\n",
      "2011     733\n",
      "2019     642\n",
      "2010     519\n",
      "2009     366\n",
      "2008     300\n",
      "2007     207\n",
      "2006     148\n",
      "2020     132\n",
      "2005     112\n",
      "2004      71\n",
      "2003      55\n",
      "2002      45\n",
      "1999      24\n",
      "2000      24\n",
      "2001      16\n",
      "1997      11\n",
      "2021      10\n",
      "1998       9\n",
      "1996       3\n",
      "1994       3\n",
      "1995       2\n",
      "1983       1\n",
      "1991       1\n",
      "Name: year, dtype: int64\n"
     ]
    },
    {
     "data": {
      "image/png": "[encoded data removed]",
      "text/plain": [
       "<Figure size 432x288 with 1 Axes>"
      ]
     },
     "metadata": {
      "needs_background": "light"
     },
     "output_type": "display_data"
    }
   ],
   "source": [
    "#Value_counts for year\n",
    "print(df['year'].value_counts())\n",
    "\n",
    "#Plotting year vs no of cars\n",
    "purchased_car_per_year = df['year'].value_counts()\n",
    "purchased_car_per_year.plot(kind='bar')\n",
    "plt.xlabel(\"Year\")\n",
    "plt.ylabel(\"Purchased Cars\")\n",
    "plt.title(\"Year vs Purchased cars\")\n",
    "plt.show()"
   ]
  },
  {
   "cell_type": "markdown",
   "id": "3fbc2b82",
   "metadata": {},
   "source": [
    "Maximum number of cars are bought in the year 2017 whereas minimum number of cars were brought in 1991 and 1983."
   ]
  },
  {
   "cell_type": "code",
   "execution_count": 37,
   "id": "485b378c",
   "metadata": {},
   "outputs": [
    {
     "data": {
      "image/png": "[encoded data removed]",
      "text/plain": [
       "<Figure size 843.125x756 with 12 Axes>"
      ]
     },
     "metadata": {
      "needs_background": "light"
     },
     "output_type": "display_data"
    }
   ],
   "source": [
    "#Plotting pairplot for transmission\n",
    "sns.pairplot(df,hue = 'transmission',diag_kind = \"kde\",kind = \"scatter\",height=3.5) \n",
    "plt.show()"
   ]
  },
  {
   "cell_type": "markdown",
   "id": "4ae268fc",
   "metadata": {},
   "source": [
    "We can see that manual cars have higher price range than automatic type cars though the distribution were skewed to the right. We can also see the increase of cars between 2010 and 2020."
   ]
  },
  {
   "cell_type": "code",
   "execution_count": 38,
   "id": "8957facc",
   "metadata": {},
   "outputs": [],
   "source": [
    "#Assigning dataframe for manual and automatic\n",
    "manual = df[df['transmission']=='Manual']\n",
    "automatic = df[df['transmission']=='Automatic']"
   ]
  },
  {
   "cell_type": "code",
   "execution_count": 39,
   "id": "951b754b",
   "metadata": {},
   "outputs": [
    {
     "name": "stdout",
     "output_type": "stream",
     "text": [
      "Manual type car\n"
     ]
    },
    {
     "data": {
      "image/png": "[encoded data removed]",
      "text/plain": [
       "<Figure size 866.5x756 with 12 Axes>"
      ]
     },
     "metadata": {
      "needs_background": "light"
     },
     "output_type": "display_data"
    }
   ],
   "source": [
    "print('Manual type car')\n",
    "sns.pairplot(manual,hue = 'fuel',diag_kind = \"kde\",kind = \"scatter\",height=3.5)\n",
    "plt.show()"
   ]
  },
  {
   "cell_type": "code",
   "execution_count": 40,
   "id": "30fb3e5c",
   "metadata": {},
   "outputs": [
    {
     "name": "stdout",
     "output_type": "stream",
     "text": [
      "Automatic type car\n"
     ]
    },
    {
     "data": {
      "image/png": "[encoded data removed]",
      "text/plain": [
       "<Figure size 866.5x756 with 12 Axes>"
      ]
     },
     "metadata": {
      "needs_background": "light"
     },
     "output_type": "display_data"
    }
   ],
   "source": [
    "print('Automatic type car')\n",
    "sns.pairplot(automatic,hue = 'fuel',diag_kind = \"kde\",kind = \"scatter\",height=3.5)\n",
    "plt.show()"
   ]
  },
  {
   "cell_type": "markdown",
   "id": "06a84328",
   "metadata": {},
   "source": [
    "We can see that the selling price of diesel type cars in both manual and automatic were more spread than diesel and other fuel hence getting higher average and range of selling price."
   ]
  },
  {
   "cell_type": "code",
   "execution_count": 41,
   "id": "e583abcb",
   "metadata": {},
   "outputs": [
    {
     "data": {
      "image/png": "[encoded data removed]",
      "text/plain": [
       "<Figure size 1152x576 with 2 Axes>"
      ]
     },
     "metadata": {
      "needs_background": "light"
     },
     "output_type": "display_data"
    }
   ],
   "source": [
    "#Plotting for year vs km_driven\n",
    "km_mean = df.groupby('year')['km_driven'].mean()\n",
    "\n",
    "fig,ax = plt.subplots(nrows=1,ncols=2,figsize=(16,8))\n",
    "\n",
    "ax[0].bar(km_mean.index,km_mean)\n",
    "sns.distplot(manual['km_driven'],ax=ax[1])\n",
    "sns.distplot(automatic['km_driven'],ax=ax[1])\n",
    "\n",
    "ax[0].set_title('Average kilometer driven each year')\n",
    "ax[0].set_xlabel('Kilometer Driven')\n",
    "ax[0].set_ylabel('Year')\n",
    "\n",
    "ax[1].set_title('Kilometers driven distribution')\n",
    "ax[1].legend(['Manual','Automatic'])\n",
    "\n",
    "plt.show()"
   ]
  },
  {
   "cell_type": "markdown",
   "id": "e1b26e27",
   "metadata": {},
   "source": [
    "We can see that average kilometers driven rises up from 1995 until 2008 and linearly goes down until 2020. We can also see some outliers present in the distribution plot."
   ]
  },
  {
   "cell_type": "code",
   "execution_count": 42,
   "id": "19728f3f",
   "metadata": {},
   "outputs": [
    {
     "data": {
      "image/png": "[encoded data removed]",
      "text/plain": [
       "<Figure size 1152x288 with 2 Axes>"
      ]
     },
     "metadata": {
      "needs_background": "light"
     },
     "output_type": "display_data"
    }
   ],
   "source": [
    "#Year and selling price\n",
    "year_mean_manual = df[df['transmission']=='Manual'].groupby('year')['selling_price'].mean()\n",
    "year_mean_automatic = df[df['transmission']=='Automatic'].groupby('year')['selling_price'].mean()\n",
    "\n",
    "fig,ax = plt.subplots(nrows=1,ncols=2,figsize=(16,4))\n",
    "\n",
    "ax[0].bar(year_mean_manual.index,year_mean_manual)\n",
    "ax[1].bar(year_mean_automatic.index,year_mean_automatic)\n",
    "\n",
    "ax[0].set_title('Average Selling Price of Manual Cars every Year')\n",
    "ax[0].set_xlabel('Year')\n",
    "ax[0].set_ylabel('Selling Price')\n",
    "\n",
    "ax[1].set_title('Average Selling Price of Automatic Cars every Year')\n",
    "ax[1].set_xlabel('Year')\n",
    "ax[1].set_ylabel('Selling Price')\n",
    "\n",
    "plt.show()"
   ]
  },
  {
   "cell_type": "markdown",
   "id": "b323867e",
   "metadata": {},
   "source": [
    "# Converting categorical data into numerical data"
   ]
  },
  {
   "cell_type": "code",
   "execution_count": 43,
   "id": "4746fc70",
   "metadata": {},
   "outputs": [],
   "source": [
    "#Converting fuel and transmission data using LabelEncoder\n",
    "from sklearn.preprocessing import LabelEncoder\n",
    "le = LabelEncoder()\n",
    "col=['fuel','transmission']  #columns to be converted\n",
    "for i in col:\n",
    "    df[i] = le.fit_transform(df[i])"
   ]
  },
  {
   "cell_type": "code",
   "execution_count": 44,
   "id": "b58fecd5",
   "metadata": {},
   "outputs": [
    {
     "data": {
      "text/html": [
       "<div>\n",
       "<style scoped>\n",
       "    .dataframe tbody tr th:only-of-type {\n",
       "        vertical-align: middle;\n",
       "    }\n",
       "\n",
       "    .dataframe tbody tr th {\n",
       "        vertical-align: top;\n",
       "    }\n",
       "\n",
       "    .dataframe thead th {\n",
       "        text-align: right;\n",
       "    }\n",
       "</style>\n",
       "<table border=\"1\" class=\"dataframe\">\n",
       "  <thead>\n",
       "    <tr style=\"text-align: right;\">\n",
       "      <th></th>\n",
       "      <th>name</th>\n",
       "      <th>year</th>\n",
       "      <th>selling_price</th>\n",
       "      <th>km_driven</th>\n",
       "      <th>fuel</th>\n",
       "      <th>transmission</th>\n",
       "    </tr>\n",
       "  </thead>\n",
       "  <tbody>\n",
       "    <tr>\n",
       "      <th>0</th>\n",
       "      <td>Hyundai</td>\n",
       "      <td>2017</td>\n",
       "      <td>525000.0</td>\n",
       "      <td>2200</td>\n",
       "      <td>5</td>\n",
       "      <td>1</td>\n",
       "    </tr>\n",
       "    <tr>\n",
       "      <th>1</th>\n",
       "      <td>Hyundai</td>\n",
       "      <td>2013</td>\n",
       "      <td>595000.0</td>\n",
       "      <td>91500</td>\n",
       "      <td>2</td>\n",
       "      <td>1</td>\n",
       "    </tr>\n",
       "    <tr>\n",
       "      <th>2</th>\n",
       "      <td>Ford</td>\n",
       "      <td>2017</td>\n",
       "      <td>775000.0</td>\n",
       "      <td>36000</td>\n",
       "      <td>2</td>\n",
       "      <td>1</td>\n",
       "    </tr>\n",
       "    <tr>\n",
       "      <th>3</th>\n",
       "      <td>Honda</td>\n",
       "      <td>2015</td>\n",
       "      <td>400000.0</td>\n",
       "      <td>90000</td>\n",
       "      <td>2</td>\n",
       "      <td>1</td>\n",
       "    </tr>\n",
       "    <tr>\n",
       "      <th>4</th>\n",
       "      <td>Maruti Suzuki</td>\n",
       "      <td>2010</td>\n",
       "      <td>230000.0</td>\n",
       "      <td>40000</td>\n",
       "      <td>5</td>\n",
       "      <td>1</td>\n",
       "    </tr>\n",
       "  </tbody>\n",
       "</table>\n",
       "</div>"
      ],
      "text/plain": [
       "            name  year  selling_price  km_driven  fuel  transmission\n",
       "0        Hyundai  2017       525000.0       2200     5             1\n",
       "1        Hyundai  2013       595000.0      91500     2             1\n",
       "2           Ford  2017       775000.0      36000     2             1\n",
       "3          Honda  2015       400000.0      90000     2             1\n",
       "4  Maruti Suzuki  2010       230000.0      40000     5             1"
      ]
     },
     "execution_count": 44,
     "metadata": {},
     "output_type": "execute_result"
    }
   ],
   "source": [
    "#Checking the dataset\n",
    "df.head()"
   ]
  },
  {
   "cell_type": "markdown",
   "id": "1ad3f222",
   "metadata": {},
   "source": [
    "By using label encoder, we had converted object data into numerical data"
   ]
  },
  {
   "cell_type": "markdown",
   "id": "eff00ff9",
   "metadata": {},
   "source": [
    "# Multivariate Analysis"
   ]
  },
  {
   "cell_type": "code",
   "execution_count": 45,
   "id": "cd0a35bc",
   "metadata": {},
   "outputs": [
    {
     "data": {
      "text/html": [
       "<div>\n",
       "<style scoped>\n",
       "    .dataframe tbody tr th:only-of-type {\n",
       "        vertical-align: middle;\n",
       "    }\n",
       "\n",
       "    .dataframe tbody tr th {\n",
       "        vertical-align: top;\n",
       "    }\n",
       "\n",
       "    .dataframe thead th {\n",
       "        text-align: right;\n",
       "    }\n",
       "</style>\n",
       "<table border=\"1\" class=\"dataframe\">\n",
       "  <thead>\n",
       "    <tr style=\"text-align: right;\">\n",
       "      <th></th>\n",
       "      <th>year</th>\n",
       "      <th>selling_price</th>\n",
       "      <th>km_driven</th>\n",
       "      <th>fuel</th>\n",
       "      <th>transmission</th>\n",
       "    </tr>\n",
       "  </thead>\n",
       "  <tbody>\n",
       "    <tr>\n",
       "      <th>count</th>\n",
       "      <td>10000.00000</td>\n",
       "      <td>1.000000e+04</td>\n",
       "      <td>1.000000e+04</td>\n",
       "      <td>10000.00000</td>\n",
       "      <td>10000.000000</td>\n",
       "    </tr>\n",
       "    <tr>\n",
       "      <th>mean</th>\n",
       "      <td>2013.69860</td>\n",
       "      <td>6.608371e+05</td>\n",
       "      <td>6.914651e+04</td>\n",
       "      <td>3.30960</td>\n",
       "      <td>0.859800</td>\n",
       "    </tr>\n",
       "    <tr>\n",
       "      <th>std</th>\n",
       "      <td>4.02124</td>\n",
       "      <td>1.204508e+06</td>\n",
       "      <td>5.868048e+04</td>\n",
       "      <td>1.51439</td>\n",
       "      <td>0.347212</td>\n",
       "    </tr>\n",
       "    <tr>\n",
       "      <th>min</th>\n",
       "      <td>1983.00000</td>\n",
       "      <td>0.000000e+00</td>\n",
       "      <td>0.000000e+00</td>\n",
       "      <td>0.00000</td>\n",
       "      <td>0.000000</td>\n",
       "    </tr>\n",
       "    <tr>\n",
       "      <th>25%</th>\n",
       "      <td>2011.00000</td>\n",
       "      <td>2.549990e+05</td>\n",
       "      <td>3.500000e+04</td>\n",
       "      <td>2.00000</td>\n",
       "      <td>1.000000</td>\n",
       "    </tr>\n",
       "    <tr>\n",
       "      <th>50%</th>\n",
       "      <td>2014.00000</td>\n",
       "      <td>4.500000e+05</td>\n",
       "      <td>6.000000e+04</td>\n",
       "      <td>2.00000</td>\n",
       "      <td>1.000000</td>\n",
       "    </tr>\n",
       "    <tr>\n",
       "      <th>75%</th>\n",
       "      <td>2017.00000</td>\n",
       "      <td>6.770000e+05</td>\n",
       "      <td>9.000000e+04</td>\n",
       "      <td>5.00000</td>\n",
       "      <td>1.000000</td>\n",
       "    </tr>\n",
       "    <tr>\n",
       "      <th>max</th>\n",
       "      <td>2021.00000</td>\n",
       "      <td>6.300000e+07</td>\n",
       "      <td>2.360457e+06</td>\n",
       "      <td>5.00000</td>\n",
       "      <td>1.000000</td>\n",
       "    </tr>\n",
       "  </tbody>\n",
       "</table>\n",
       "</div>"
      ],
      "text/plain": [
       "              year  selling_price     km_driven         fuel  transmission\n",
       "count  10000.00000   1.000000e+04  1.000000e+04  10000.00000  10000.000000\n",
       "mean    2013.69860   6.608371e+05  6.914651e+04      3.30960      0.859800\n",
       "std        4.02124   1.204508e+06  5.868048e+04      1.51439      0.347212\n",
       "min     1983.00000   0.000000e+00  0.000000e+00      0.00000      0.000000\n",
       "25%     2011.00000   2.549990e+05  3.500000e+04      2.00000      1.000000\n",
       "50%     2014.00000   4.500000e+05  6.000000e+04      2.00000      1.000000\n",
       "75%     2017.00000   6.770000e+05  9.000000e+04      5.00000      1.000000\n",
       "max     2021.00000   6.300000e+07  2.360457e+06      5.00000      1.000000"
      ]
     },
     "execution_count": 45,
     "metadata": {},
     "output_type": "execute_result"
    }
   ],
   "source": [
    "df.describe()    #Statistical summary of the dataset"
   ]
  },
  {
   "cell_type": "markdown",
   "id": "e0c9b596",
   "metadata": {},
   "source": [
    "Observations:\n",
    "\n",
    "1.There is not much difference between the mean and the median\n",
    "\n",
    "2.The minimum value is 0 for all other columns.\n",
    "\n",
    "3.The 75th percentile and max value difference for km_driven column is high and it is due to the presence of outliers."
   ]
  },
  {
   "cell_type": "code",
   "execution_count": 46,
   "id": "ec871273",
   "metadata": {},
   "outputs": [
    {
     "data": {
      "text/html": [
       "<div>\n",
       "<style scoped>\n",
       "    .dataframe tbody tr th:only-of-type {\n",
       "        vertical-align: middle;\n",
       "    }\n",
       "\n",
       "    .dataframe tbody tr th {\n",
       "        vertical-align: top;\n",
       "    }\n",
       "\n",
       "    .dataframe thead th {\n",
       "        text-align: right;\n",
       "    }\n",
       "</style>\n",
       "<table border=\"1\" class=\"dataframe\">\n",
       "  <thead>\n",
       "    <tr style=\"text-align: right;\">\n",
       "      <th></th>\n",
       "      <th>year</th>\n",
       "      <th>selling_price</th>\n",
       "      <th>km_driven</th>\n",
       "      <th>fuel</th>\n",
       "      <th>transmission</th>\n",
       "    </tr>\n",
       "  </thead>\n",
       "  <tbody>\n",
       "    <tr>\n",
       "      <th>year</th>\n",
       "      <td>1.000000</td>\n",
       "      <td>0.278422</td>\n",
       "      <td>-0.391988</td>\n",
       "      <td>-0.050646</td>\n",
       "      <td>-0.234196</td>\n",
       "    </tr>\n",
       "    <tr>\n",
       "      <th>selling_price</th>\n",
       "      <td>0.278422</td>\n",
       "      <td>1.000000</td>\n",
       "      <td>-0.147619</td>\n",
       "      <td>-0.121624</td>\n",
       "      <td>-0.400351</td>\n",
       "    </tr>\n",
       "    <tr>\n",
       "      <th>km_driven</th>\n",
       "      <td>-0.391988</td>\n",
       "      <td>-0.147619</td>\n",
       "      <td>1.000000</td>\n",
       "      <td>-0.247807</td>\n",
       "      <td>0.182361</td>\n",
       "    </tr>\n",
       "    <tr>\n",
       "      <th>fuel</th>\n",
       "      <td>-0.050646</td>\n",
       "      <td>-0.121624</td>\n",
       "      <td>-0.247807</td>\n",
       "      <td>1.000000</td>\n",
       "      <td>-0.028709</td>\n",
       "    </tr>\n",
       "    <tr>\n",
       "      <th>transmission</th>\n",
       "      <td>-0.234196</td>\n",
       "      <td>-0.400351</td>\n",
       "      <td>0.182361</td>\n",
       "      <td>-0.028709</td>\n",
       "      <td>1.000000</td>\n",
       "    </tr>\n",
       "  </tbody>\n",
       "</table>\n",
       "</div>"
      ],
      "text/plain": [
       "                   year  selling_price  km_driven      fuel  transmission\n",
       "year           1.000000       0.278422  -0.391988 -0.050646     -0.234196\n",
       "selling_price  0.278422       1.000000  -0.147619 -0.121624     -0.400351\n",
       "km_driven     -0.391988      -0.147619   1.000000 -0.247807      0.182361\n",
       "fuel          -0.050646      -0.121624  -0.247807  1.000000     -0.028709\n",
       "transmission  -0.234196      -0.400351   0.182361 -0.028709      1.000000"
      ]
     },
     "execution_count": 46,
     "metadata": {},
     "output_type": "execute_result"
    }
   ],
   "source": [
    "#Checking correlation of the dataset\n",
    "corr=df.corr()  #corr() function provides the correlation value of each column\n",
    "corr"
   ]
  },
  {
   "cell_type": "code",
   "execution_count": 47,
   "id": "34b96432",
   "metadata": {},
   "outputs": [
    {
     "data": {
      "image/png": "[encoded data removed]",
      "text/plain": [
       "<Figure size 720x576 with 2 Axes>"
      ]
     },
     "metadata": {
      "needs_background": "light"
     },
     "output_type": "display_data"
    }
   ],
   "source": [
    "#Plotting heatmap for visualizing the correlation\n",
    "plt.figure(figsize=(10,8))\n",
    "sns.heatmap(corr,linewidth=0.5,linecolor='black',fmt='.0%',annot=True)\n",
    "plt.show()"
   ]
  },
  {
   "cell_type": "markdown",
   "id": "2294c272",
   "metadata": {},
   "source": [
    "Observations:\n",
    "\n",
    "1.There are more negative correlations present in the dataset\n",
    "\n",
    "2.Highest positive correlated column has a value of 28%.\n",
    "\n",
    "3.Highest negatively correlated column has a value of -40%\n",
    "\n",
    "4.Positively correlated columns have a high impact with the target variable whereas negatively correlated columns have less or zero impact with the target variable."
   ]
  },
  {
   "cell_type": "code",
   "execution_count": 48,
   "id": "0ef9ca69",
   "metadata": {},
   "outputs": [
    {
     "data": {
      "text/plain": [
       "Text(0.5, 1.0, 'Correlation with Target variable')"
      ]
     },
     "execution_count": 48,
     "metadata": {},
     "output_type": "execute_result"
    },
    {
     "data": {
      "image/png": "[encoded data removed]",
      "text/plain": [
       "<Figure size 864x576 with 1 Axes>"
      ]
     },
     "metadata": {
      "needs_background": "light"
     },
     "output_type": "display_data"
    }
   ],
   "source": [
    "#Correlation with target variable\n",
    "plt.figure(figsize=(12,8))\n",
    "df.drop('selling_price',axis=1).corrwith(df['selling_price']).plot(kind='bar',grid=True)\n",
    "plt.title('Correlation with Target variable')"
   ]
  },
  {
   "cell_type": "markdown",
   "id": "946b2e53",
   "metadata": {},
   "source": [
    "We can see that year column is the only highly correlated column"
   ]
  },
  {
   "cell_type": "code",
   "execution_count": 49,
   "id": "26be8803",
   "metadata": {},
   "outputs": [],
   "source": [
    "#Dropping name column\n",
    "df.drop(['name'],axis=1,inplace=True)"
   ]
  },
  {
   "cell_type": "markdown",
   "id": "2e629a6a",
   "metadata": {},
   "source": [
    "# Checking skewness"
   ]
  },
  {
   "cell_type": "code",
   "execution_count": 50,
   "id": "f10d86b6",
   "metadata": {},
   "outputs": [
    {
     "data": {
      "text/plain": [
       "year             -0.970990\n",
       "selling_price    28.995597\n",
       "km_driven         9.944101\n",
       "fuel              0.167063\n",
       "transmission     -2.072925\n",
       "dtype: float64"
      ]
     },
     "execution_count": 50,
     "metadata": {},
     "output_type": "execute_result"
    }
   ],
   "source": [
    "df.skew()"
   ]
  },
  {
   "cell_type": "code",
   "execution_count": 51,
   "id": "b3934f41",
   "metadata": {},
   "outputs": [
    {
     "data": {
      "image/png": "[encoded data removed]",
      "text/plain": [
       "<Figure size 432x288 with 1 Axes>"
      ]
     },
     "metadata": {
      "needs_background": "light"
     },
     "output_type": "display_data"
    },
    {
     "data": {
      "image/png": "[encoded data removed]",
      "text/plain": [
       "<Figure size 432x288 with 1 Axes>"
      ]
     },
     "metadata": {
      "needs_background": "light"
     },
     "output_type": "display_data"
    },
    {
     "data": {
      "image/png": "[encoded data removed]",
      "text/plain": [
       "<Figure size 432x288 with 1 Axes>"
      ]
     },
     "metadata": {
      "needs_background": "light"
     },
     "output_type": "display_data"
    },
    {
     "data": {
      "image/png": "[encoded data removed]",
      "text/plain": [
       "<Figure size 432x288 with 1 Axes>"
      ]
     },
     "metadata": {
      "needs_background": "light"
     },
     "output_type": "display_data"
    },
    {
     "data": {
      "image/png": "[encoded data removed]",
      "text/plain": [
       "<Figure size 432x288 with 1 Axes>"
      ]
     },
     "metadata": {
      "needs_background": "light"
     },
     "output_type": "display_data"
    }
   ],
   "source": [
    "#Plotting distplot for checking the distribution of skewness\n",
    "for col in df.describe().columns:\n",
    "    sns.distplot(df[col])\n",
    "    plt.show()"
   ]
  },
  {
   "cell_type": "markdown",
   "id": "63250754",
   "metadata": {},
   "source": [
    "Large skewness is present in selling_price and km_driven columns and it is due to the presence of outliers"
   ]
  },
  {
   "cell_type": "markdown",
   "id": "d40e930e",
   "metadata": {},
   "source": [
    "# Checking outliers"
   ]
  },
  {
   "cell_type": "markdown",
   "id": "939535ac",
   "metadata": {},
   "source": [
    "We can check the presence of outliers by plotting boxplot"
   ]
  },
  {
   "cell_type": "code",
   "execution_count": 52,
   "id": "f08cc19a",
   "metadata": {},
   "outputs": [],
   "source": [
    "collist=df.columns.values \n",
    "ncol=20\n",
    "nrows=20"
   ]
  },
  {
   "cell_type": "code",
   "execution_count": 53,
   "id": "5458ab13",
   "metadata": {},
   "outputs": [
    {
     "data": {
      "image/png": "[encoded data removed]",
      "text/plain": [
       "<Figure size 1440x7200 with 4 Axes>"
      ]
     },
     "metadata": {
      "needs_background": "light"
     },
     "output_type": "display_data"
    }
   ],
   "source": [
    "#Lets visualize outliers through boxplots\n",
    "plt.figure(figsize=(ncol,5*ncol))\n",
    "for i in range (1,len(collist)):\n",
    "    plt.subplot(nrows,ncol,i+1)\n",
    "    sns.boxplot(df[collist[i]],color='orange',orient='v')\n",
    "    plt.tight_layout()"
   ]
  },
  {
   "cell_type": "markdown",
   "id": "5e865e2d",
   "metadata": {},
   "source": [
    "We can see there are outliers and it can be handled by using z-score method"
   ]
  },
  {
   "cell_type": "markdown",
   "id": "b035877f",
   "metadata": {},
   "source": [
    "# Handling outliers by using z-score method"
   ]
  },
  {
   "cell_type": "code",
   "execution_count": 54,
   "id": "7d0bc309",
   "metadata": {},
   "outputs": [
    {
     "data": {
      "text/plain": [
       "(array([   6,   13,   46,   53,  166,  173,  299,  311,  312,  321,  328,\n",
       "         329,  335,  355,  377,  406,  413,  539,  551,  552,  568,  569,\n",
       "         595,  617,  641,  682,  703,  705,  733,  766,  846,  899,  911,\n",
       "         912,  928,  929,  955,  977, 1007, 1132, 1135, 1136, 1139, 1148,\n",
       "        1170, 1177, 1186, 1288, 1316, 1371, 1384, 1385, 1401, 1410, 1423,\n",
       "        1424, 1461, 1647, 1660, 1661, 1774, 1808, 1886, 1998, 1999, 2025,\n",
       "        2045, 2071, 2078, 2091, 2092, 2097, 2110, 2111, 2116, 2129, 2130,\n",
       "        2135, 2148, 2149, 2216, 2237, 2379, 2432, 2468, 2474, 2562, 2629,\n",
       "        2710, 2723, 2724, 2775, 2810, 2815, 2858, 2871, 2872, 2882, 2972,\n",
       "        2997, 3006, 3036, 3094, 3140, 3145, 3272, 3327, 3340, 3402, 3424,\n",
       "        3579, 3584, 3631, 3644, 3645, 3664, 3677, 3678, 3726, 3805, 3818,\n",
       "        3886, 3938, 3977, 3999, 4046, 4079, 4092, 4093, 4097, 4120, 4237,\n",
       "        4240, 4310, 4378, 4409, 4422, 4423, 4486, 4508, 4517, 4530, 4531,\n",
       "        4583, 4584, 4641, 4832, 4845, 4846, 4852, 4873, 4874, 4890, 4919,\n",
       "        4922, 5033, 5101, 5108, 5112, 5117, 5216, 5229, 5230, 5235, 5248,\n",
       "        5249, 5253, 5256, 5269, 5270, 5285, 5287, 5305, 5321, 5334, 5335,\n",
       "        5359, 5372, 5415, 5428, 5429, 5542, 5570, 5630, 5653, 5654, 5664,\n",
       "        5671, 5708, 5712, 5753, 5766, 5816, 5829, 5830, 5861, 5933, 5950,\n",
       "        5951, 5952, 5998, 6057, 6060, 6060, 6080, 6084, 6097, 6098, 6106,\n",
       "        6189, 6246, 6252, 6253, 6256, 6257, 6258, 6322, 6323, 6349, 6385,\n",
       "        6411, 6422, 6451, 6467, 6610, 6615, 6628, 6629, 6681, 6683, 6702,\n",
       "        6714, 6726, 6746, 6813, 6871, 6965, 6992, 7164, 7167, 7180, 7181,\n",
       "        7200, 7250, 7258, 7320, 7387, 7418, 7436, 7521, 7555, 7568, 7569,\n",
       "        7574, 7587, 7588, 7639, 7673, 7690, 7703, 7704, 7715, 7730, 7755,\n",
       "        7776, 7782, 7919, 7920, 7933, 7960, 7973, 7974, 8042, 8064, 8102,\n",
       "        8116, 8218, 8340, 8343, 8471, 8516, 8524, 8524, 8596, 8631, 8633,\n",
       "        8645, 8701, 8710, 8711, 8713, 8757, 8765, 8846, 8859, 8872, 8873,\n",
       "        8930, 8935, 8945, 8958, 8969, 8982, 8996, 9006, 9013, 9046, 9053,\n",
       "        9166, 9173, 9299, 9311, 9312, 9321, 9328, 9329, 9335, 9355, 9377,\n",
       "        9406, 9413, 9539, 9551, 9552, 9568, 9569, 9595, 9617, 9641, 9682,\n",
       "        9703, 9705, 9733, 9766, 9846, 9899, 9911, 9912, 9928, 9929, 9955,\n",
       "        9977], dtype=int64),\n",
       " array([1, 1, 1, 1, 1, 1, 1, 0, 2, 1, 2, 2, 1, 2, 0, 1, 1, 1, 0, 2, 2, 2,\n",
       "        2, 0, 1, 1, 0, 0, 2, 1, 1, 1, 0, 2, 2, 2, 2, 0, 0, 1, 1, 1, 1, 1,\n",
       "        1, 0, 0, 1, 0, 1, 1, 1, 2, 1, 1, 1, 2, 1, 1, 1, 0, 0, 2, 2, 0, 0,\n",
       "        0, 1, 1, 1, 1, 1, 1, 1, 1, 1, 1, 1, 1, 1, 0, 2, 0, 0, 0, 0, 1, 2,\n",
       "        1, 1, 1, 0, 2, 0, 1, 1, 1, 0, 0, 2, 2, 2, 2, 0, 0, 2, 0, 0, 2, 0,\n",
       "        2, 2, 1, 1, 1, 1, 1, 1, 2, 2, 0, 0, 1, 2, 2, 0, 1, 1, 1, 0, 2, 1,\n",
       "        1, 0, 0, 1, 1, 1, 2, 2, 1, 1, 1, 2, 2, 2, 1, 1, 1, 2, 2, 2, 0, 0,\n",
       "        0, 0, 1, 0, 0, 2, 1, 1, 1, 1, 1, 1, 0, 1, 1, 1, 0, 2, 0, 1, 1, 1,\n",
       "        0, 0, 1, 1, 1, 0, 2, 2, 2, 2, 2, 1, 2, 0, 1, 1, 1, 1, 1, 2, 0, 1,\n",
       "        1, 1, 2, 2, 0, 2, 0, 1, 1, 1, 2, 2, 1, 1, 1, 1, 1, 1, 0, 2, 0, 0,\n",
       "        0, 2, 0, 2, 0, 1, 1, 1, 0, 2, 0, 0, 0, 0, 2, 2, 0, 0, 0, 1, 1, 1,\n",
       "        2, 2, 1, 0, 0, 2, 0, 0, 1, 1, 1, 1, 1, 1, 0, 2, 1, 1, 1, 2, 0, 2,\n",
       "        0, 2, 0, 0, 0, 1, 1, 1, 2, 2, 2, 2, 0, 1, 1, 0, 1, 0, 2, 1, 2, 2,\n",
       "        2, 1, 1, 1, 1, 1, 0, 0, 1, 1, 1, 1, 0, 2, 0, 2, 0, 0, 1, 1, 1, 1,\n",
       "        1, 1, 1, 0, 2, 1, 2, 2, 1, 2, 0, 1, 1, 1, 0, 2, 2, 2, 2, 0, 1, 1,\n",
       "        0, 0, 2, 1, 1, 1, 0, 2, 2, 2, 2, 0], dtype=int64))"
      ]
     },
     "execution_count": 54,
     "metadata": {},
     "output_type": "execute_result"
    }
   ],
   "source": [
    "from scipy.stats import zscore\n",
    "import numpy as np\n",
    "z=np.abs(zscore(df))   #converting all values into absolute values\n",
    "threshold=3    #setting up a threshold\n",
    "np.where(z>3)"
   ]
  },
  {
   "cell_type": "code",
   "execution_count": 55,
   "id": "ae32b92c",
   "metadata": {},
   "outputs": [
    {
     "data": {
      "text/html": [
       "<div>\n",
       "<style scoped>\n",
       "    .dataframe tbody tr th:only-of-type {\n",
       "        vertical-align: middle;\n",
       "    }\n",
       "\n",
       "    .dataframe tbody tr th {\n",
       "        vertical-align: top;\n",
       "    }\n",
       "\n",
       "    .dataframe thead th {\n",
       "        text-align: right;\n",
       "    }\n",
       "</style>\n",
       "<table border=\"1\" class=\"dataframe\">\n",
       "  <thead>\n",
       "    <tr style=\"text-align: right;\">\n",
       "      <th></th>\n",
       "      <th>year</th>\n",
       "      <th>selling_price</th>\n",
       "      <th>km_driven</th>\n",
       "      <th>fuel</th>\n",
       "      <th>transmission</th>\n",
       "    </tr>\n",
       "  </thead>\n",
       "  <tbody>\n",
       "    <tr>\n",
       "      <th>0</th>\n",
       "      <td>2017</td>\n",
       "      <td>525000.0</td>\n",
       "      <td>2200</td>\n",
       "      <td>5</td>\n",
       "      <td>1</td>\n",
       "    </tr>\n",
       "    <tr>\n",
       "      <th>1</th>\n",
       "      <td>2013</td>\n",
       "      <td>595000.0</td>\n",
       "      <td>91500</td>\n",
       "      <td>2</td>\n",
       "      <td>1</td>\n",
       "    </tr>\n",
       "    <tr>\n",
       "      <th>2</th>\n",
       "      <td>2017</td>\n",
       "      <td>775000.0</td>\n",
       "      <td>36000</td>\n",
       "      <td>2</td>\n",
       "      <td>1</td>\n",
       "    </tr>\n",
       "    <tr>\n",
       "      <th>3</th>\n",
       "      <td>2015</td>\n",
       "      <td>400000.0</td>\n",
       "      <td>90000</td>\n",
       "      <td>2</td>\n",
       "      <td>1</td>\n",
       "    </tr>\n",
       "    <tr>\n",
       "      <th>4</th>\n",
       "      <td>2010</td>\n",
       "      <td>230000.0</td>\n",
       "      <td>40000</td>\n",
       "      <td>5</td>\n",
       "      <td>1</td>\n",
       "    </tr>\n",
       "    <tr>\n",
       "      <th>...</th>\n",
       "      <td>...</td>\n",
       "      <td>...</td>\n",
       "      <td>...</td>\n",
       "      <td>...</td>\n",
       "      <td>...</td>\n",
       "    </tr>\n",
       "    <tr>\n",
       "      <th>9995</th>\n",
       "      <td>2012</td>\n",
       "      <td>325000.0</td>\n",
       "      <td>65000</td>\n",
       "      <td>5</td>\n",
       "      <td>1</td>\n",
       "    </tr>\n",
       "    <tr>\n",
       "      <th>9996</th>\n",
       "      <td>2018</td>\n",
       "      <td>290000.0</td>\n",
       "      <td>85000</td>\n",
       "      <td>1</td>\n",
       "      <td>1</td>\n",
       "    </tr>\n",
       "    <tr>\n",
       "      <th>9997</th>\n",
       "      <td>2010</td>\n",
       "      <td>320000.0</td>\n",
       "      <td>72000</td>\n",
       "      <td>5</td>\n",
       "      <td>1</td>\n",
       "    </tr>\n",
       "    <tr>\n",
       "      <th>9998</th>\n",
       "      <td>2012</td>\n",
       "      <td>185000.0</td>\n",
       "      <td>70000</td>\n",
       "      <td>2</td>\n",
       "      <td>1</td>\n",
       "    </tr>\n",
       "    <tr>\n",
       "      <th>9999</th>\n",
       "      <td>2018</td>\n",
       "      <td>875000.0</td>\n",
       "      <td>53764</td>\n",
       "      <td>2</td>\n",
       "      <td>1</td>\n",
       "    </tr>\n",
       "  </tbody>\n",
       "</table>\n",
       "<p>9660 rows × 5 columns</p>\n",
       "</div>"
      ],
      "text/plain": [
       "      year  selling_price  km_driven  fuel  transmission\n",
       "0     2017       525000.0       2200     5             1\n",
       "1     2013       595000.0      91500     2             1\n",
       "2     2017       775000.0      36000     2             1\n",
       "3     2015       400000.0      90000     2             1\n",
       "4     2010       230000.0      40000     5             1\n",
       "...    ...            ...        ...   ...           ...\n",
       "9995  2012       325000.0      65000     5             1\n",
       "9996  2018       290000.0      85000     1             1\n",
       "9997  2010       320000.0      72000     5             1\n",
       "9998  2012       185000.0      70000     2             1\n",
       "9999  2018       875000.0      53764     2             1\n",
       "\n",
       "[9660 rows x 5 columns]"
      ]
     },
     "execution_count": 55,
     "metadata": {},
     "output_type": "execute_result"
    }
   ],
   "source": [
    "#Removing outliers\n",
    "df_new=df[(z<3).all(axis=1)]\n",
    "df_new"
   ]
  },
  {
   "cell_type": "code",
   "execution_count": 56,
   "id": "6325813a",
   "metadata": {},
   "outputs": [
    {
     "data": {
      "text/plain": [
       "(10000, 5)"
      ]
     },
     "execution_count": 56,
     "metadata": {},
     "output_type": "execute_result"
    }
   ],
   "source": [
    "df.shape   #Original data dimensions"
   ]
  },
  {
   "cell_type": "code",
   "execution_count": 57,
   "id": "8ba93150",
   "metadata": {},
   "outputs": [
    {
     "data": {
      "text/plain": [
       "(9660, 5)"
      ]
     },
     "execution_count": 57,
     "metadata": {},
     "output_type": "execute_result"
    }
   ],
   "source": [
    "df_new.shape  #New data dimensions"
   ]
  },
  {
   "cell_type": "markdown",
   "id": "76567132",
   "metadata": {},
   "source": [
    "Nearly 300+ rows of data had outliers and they had been handled by using z-score method"
   ]
  },
  {
   "cell_type": "markdown",
   "id": "c61c54f2",
   "metadata": {},
   "source": [
    "# Percentage loss of data after removing outliers"
   ]
  },
  {
   "cell_type": "code",
   "execution_count": 58,
   "id": "f30fdd0f",
   "metadata": {},
   "outputs": [
    {
     "name": "stdout",
     "output_type": "stream",
     "text": [
      "3.4000000000000004\n"
     ]
    }
   ],
   "source": [
    "percentage_loss=((340)/10000)*100   #340 = 10000-9660\n",
    "print(percentage_loss)"
   ]
  },
  {
   "cell_type": "markdown",
   "id": "16c3fb6f",
   "metadata": {},
   "source": [
    "We can see that less number of data has been removed and it's not a big loss"
   ]
  },
  {
   "cell_type": "markdown",
   "id": "0b9e5dee",
   "metadata": {},
   "source": [
    "# Preparing dataset for model training"
   ]
  },
  {
   "cell_type": "code",
   "execution_count": 59,
   "id": "61606eef",
   "metadata": {},
   "outputs": [],
   "source": [
    "df_x=df_new.drop('selling_price',axis=1)   #Independent variables\n",
    "y=df_new['selling_price']    #Dependent or Target Variable"
   ]
  },
  {
   "cell_type": "code",
   "execution_count": 60,
   "id": "ded3a678",
   "metadata": {},
   "outputs": [
    {
     "data": {
      "text/html": [
       "<div>\n",
       "<style scoped>\n",
       "    .dataframe tbody tr th:only-of-type {\n",
       "        vertical-align: middle;\n",
       "    }\n",
       "\n",
       "    .dataframe tbody tr th {\n",
       "        vertical-align: top;\n",
       "    }\n",
       "\n",
       "    .dataframe thead th {\n",
       "        text-align: right;\n",
       "    }\n",
       "</style>\n",
       "<table border=\"1\" class=\"dataframe\">\n",
       "  <thead>\n",
       "    <tr style=\"text-align: right;\">\n",
       "      <th></th>\n",
       "      <th>year</th>\n",
       "      <th>km_driven</th>\n",
       "      <th>fuel</th>\n",
       "      <th>transmission</th>\n",
       "    </tr>\n",
       "  </thead>\n",
       "  <tbody>\n",
       "    <tr>\n",
       "      <th>0</th>\n",
       "      <td>2017</td>\n",
       "      <td>2200</td>\n",
       "      <td>5</td>\n",
       "      <td>1</td>\n",
       "    </tr>\n",
       "    <tr>\n",
       "      <th>1</th>\n",
       "      <td>2013</td>\n",
       "      <td>91500</td>\n",
       "      <td>2</td>\n",
       "      <td>1</td>\n",
       "    </tr>\n",
       "    <tr>\n",
       "      <th>2</th>\n",
       "      <td>2017</td>\n",
       "      <td>36000</td>\n",
       "      <td>2</td>\n",
       "      <td>1</td>\n",
       "    </tr>\n",
       "    <tr>\n",
       "      <th>3</th>\n",
       "      <td>2015</td>\n",
       "      <td>90000</td>\n",
       "      <td>2</td>\n",
       "      <td>1</td>\n",
       "    </tr>\n",
       "    <tr>\n",
       "      <th>4</th>\n",
       "      <td>2010</td>\n",
       "      <td>40000</td>\n",
       "      <td>5</td>\n",
       "      <td>1</td>\n",
       "    </tr>\n",
       "  </tbody>\n",
       "</table>\n",
       "</div>"
      ],
      "text/plain": [
       "   year  km_driven  fuel  transmission\n",
       "0  2017       2200     5             1\n",
       "1  2013      91500     2             1\n",
       "2  2017      36000     2             1\n",
       "3  2015      90000     2             1\n",
       "4  2010      40000     5             1"
      ]
     },
     "execution_count": 60,
     "metadata": {},
     "output_type": "execute_result"
    }
   ],
   "source": [
    "#Checking x data\n",
    "df_x.head()"
   ]
  },
  {
   "cell_type": "code",
   "execution_count": 61,
   "id": "93ed241c",
   "metadata": {},
   "outputs": [
    {
     "data": {
      "text/plain": [
       "0    525000.0\n",
       "1    595000.0\n",
       "2    775000.0\n",
       "3    400000.0\n",
       "4    230000.0\n",
       "Name: selling_price, dtype: float64"
      ]
     },
     "execution_count": 61,
     "metadata": {},
     "output_type": "execute_result"
    }
   ],
   "source": [
    "#Checking y data after splitting\n",
    "y.head()"
   ]
  },
  {
   "cell_type": "markdown",
   "id": "0b989686",
   "metadata": {},
   "source": [
    "# Treating skewness"
   ]
  },
  {
   "cell_type": "code",
   "execution_count": 62,
   "id": "d07456f5",
   "metadata": {},
   "outputs": [],
   "source": [
    "#We are treating skewness by using square root transform\n",
    "for col in df_x.skew().index:\n",
    "    if col in df_x.describe().columns:\n",
    "        if df_x[col].skew()>0.55:\n",
    "            df_x[col]=np.sqrt(df_x[col])\n",
    "        if df_x[col].skew()<-0.55:\n",
    "            df_x[col]=np.sqrt(df_x[col])  "
   ]
  },
  {
   "cell_type": "code",
   "execution_count": 63,
   "id": "54e7f8e5",
   "metadata": {},
   "outputs": [
    {
     "data": {
      "text/plain": [
       "year           -0.656801\n",
       "km_driven      -0.173734\n",
       "fuel            0.156582\n",
       "transmission   -2.214140\n",
       "dtype: float64"
      ]
     },
     "execution_count": 63,
     "metadata": {},
     "output_type": "execute_result"
    }
   ],
   "source": [
    "df_x.skew()   #Checking skewness after treating it"
   ]
  },
  {
   "cell_type": "markdown",
   "id": "056d35ba",
   "metadata": {},
   "source": [
    "We can see that skewness has been treated and we can proceed further model building process"
   ]
  },
  {
   "cell_type": "markdown",
   "id": "5c4cc7e4",
   "metadata": {},
   "source": [
    "# Scaling the data"
   ]
  },
  {
   "cell_type": "markdown",
   "id": "96304470",
   "metadata": {},
   "source": [
    "Sometimes model can be biased to higher values in dataset, so it is better to scale the dataset so that we can bring all the columns in common range. We can use StandardScaler here."
   ]
  },
  {
   "cell_type": "code",
   "execution_count": 64,
   "id": "6c95ef8a",
   "metadata": {},
   "outputs": [
    {
     "data": {
      "text/html": [
       "<div>\n",
       "<style scoped>\n",
       "    .dataframe tbody tr th:only-of-type {\n",
       "        vertical-align: middle;\n",
       "    }\n",
       "\n",
       "    .dataframe tbody tr th {\n",
       "        vertical-align: top;\n",
       "    }\n",
       "\n",
       "    .dataframe thead th {\n",
       "        text-align: right;\n",
       "    }\n",
       "</style>\n",
       "<table border=\"1\" class=\"dataframe\">\n",
       "  <thead>\n",
       "    <tr style=\"text-align: right;\">\n",
       "      <th></th>\n",
       "      <th>year</th>\n",
       "      <th>km_driven</th>\n",
       "      <th>fuel</th>\n",
       "      <th>transmission</th>\n",
       "    </tr>\n",
       "  </thead>\n",
       "  <tbody>\n",
       "    <tr>\n",
       "      <th>0</th>\n",
       "      <td>0.858876</td>\n",
       "      <td>-2.329023</td>\n",
       "      <td>1.110111</td>\n",
       "      <td>0.38482</td>\n",
       "    </tr>\n",
       "    <tr>\n",
       "      <th>1</th>\n",
       "      <td>-0.215883</td>\n",
       "      <td>0.690959</td>\n",
       "      <td>-0.870253</td>\n",
       "      <td>0.38482</td>\n",
       "    </tr>\n",
       "    <tr>\n",
       "      <th>2</th>\n",
       "      <td>0.858876</td>\n",
       "      <td>-0.641323</td>\n",
       "      <td>-0.870253</td>\n",
       "      <td>0.38482</td>\n",
       "    </tr>\n",
       "    <tr>\n",
       "      <th>3</th>\n",
       "      <td>0.321630</td>\n",
       "      <td>0.661541</td>\n",
       "      <td>-0.870253</td>\n",
       "      <td>0.38482</td>\n",
       "    </tr>\n",
       "    <tr>\n",
       "      <th>4</th>\n",
       "      <td>-1.022654</td>\n",
       "      <td>-0.520052</td>\n",
       "      <td>1.110111</td>\n",
       "      <td>0.38482</td>\n",
       "    </tr>\n",
       "    <tr>\n",
       "      <th>...</th>\n",
       "      <td>...</td>\n",
       "      <td>...</td>\n",
       "      <td>...</td>\n",
       "      <td>...</td>\n",
       "    </tr>\n",
       "    <tr>\n",
       "      <th>9655</th>\n",
       "      <td>-0.484740</td>\n",
       "      <td>0.129245</td>\n",
       "      <td>1.110111</td>\n",
       "      <td>0.38482</td>\n",
       "    </tr>\n",
       "    <tr>\n",
       "      <th>9656</th>\n",
       "      <td>1.127400</td>\n",
       "      <td>0.561668</td>\n",
       "      <td>-1.530374</td>\n",
       "      <td>0.38482</td>\n",
       "    </tr>\n",
       "    <tr>\n",
       "      <th>9657</th>\n",
       "      <td>-1.022654</td>\n",
       "      <td>0.287309</td>\n",
       "      <td>1.110111</td>\n",
       "      <td>0.38482</td>\n",
       "    </tr>\n",
       "    <tr>\n",
       "      <th>9658</th>\n",
       "      <td>-0.484740</td>\n",
       "      <td>0.242963</td>\n",
       "      <td>-0.870253</td>\n",
       "      <td>0.38482</td>\n",
       "    </tr>\n",
       "    <tr>\n",
       "      <th>9659</th>\n",
       "      <td>1.127400</td>\n",
       "      <td>-0.143471</td>\n",
       "      <td>-0.870253</td>\n",
       "      <td>0.38482</td>\n",
       "    </tr>\n",
       "  </tbody>\n",
       "</table>\n",
       "<p>9660 rows × 4 columns</p>\n",
       "</div>"
      ],
      "text/plain": [
       "          year  km_driven      fuel  transmission\n",
       "0     0.858876  -2.329023  1.110111       0.38482\n",
       "1    -0.215883   0.690959 -0.870253       0.38482\n",
       "2     0.858876  -0.641323 -0.870253       0.38482\n",
       "3     0.321630   0.661541 -0.870253       0.38482\n",
       "4    -1.022654  -0.520052  1.110111       0.38482\n",
       "...        ...        ...       ...           ...\n",
       "9655 -0.484740   0.129245  1.110111       0.38482\n",
       "9656  1.127400   0.561668 -1.530374       0.38482\n",
       "9657 -1.022654   0.287309  1.110111       0.38482\n",
       "9658 -0.484740   0.242963 -0.870253       0.38482\n",
       "9659  1.127400  -0.143471 -0.870253       0.38482\n",
       "\n",
       "[9660 rows x 4 columns]"
      ]
     },
     "execution_count": 64,
     "metadata": {},
     "output_type": "execute_result"
    }
   ],
   "source": [
    "#Scaling the dataset using StandardScaler\n",
    "from sklearn.preprocessing import StandardScaler\n",
    "sc=StandardScaler()\n",
    "x=sc.fit_transform(df_x)\n",
    "x=pd.DataFrame(x,columns=df_x.columns)\n",
    "x"
   ]
  },
  {
   "cell_type": "markdown",
   "id": "de1bbf6c",
   "metadata": {},
   "source": [
    "# Model Building"
   ]
  },
  {
   "cell_type": "code",
   "execution_count": 65,
   "id": "636dc5fa",
   "metadata": {},
   "outputs": [
    {
     "name": "stdout",
     "output_type": "stream",
     "text": [
      "At random state 48 ,the model performs well\n",
      "Training r2_score is:  49.81505489460692\n",
      "Testing r2_score is:  49.78050062810894\n",
      "At random state 73 ,the model performs well\n",
      "Training r2_score is:  49.81662674234254\n",
      "Testing r2_score is:  49.75466781460837\n"
     ]
    }
   ],
   "source": [
    "#Finding the best random state and r2_score\n",
    "for i in range(42,100):\n",
    "    x_train,x_test,y_train,y_test=train_test_split(x,y,test_size=.20,random_state=i)\n",
    "    lr=LinearRegression()\n",
    "    lr.fit(x_train,y_train)\n",
    "    pred_train=lr.predict(x_train)\n",
    "    pred_test=lr.predict(x_test)\n",
    "    if round(r2_score(y_train,pred_train)*100,1)==round(r2_score(y_test,pred_test)*100,1):\n",
    "        print('At random state',i,',the model performs well')\n",
    "        print('Training r2_score is: ',r2_score(y_train,pred_train)*100)\n",
    "        print('Testing r2_score is: ',r2_score(y_test,pred_test)*100)"
   ]
  },
  {
   "cell_type": "markdown",
   "id": "f1361342",
   "metadata": {},
   "source": [
    "We can see that at random_state=48, the best r2_score is obtained so that we can create our train_test_split with this random state."
   ]
  },
  {
   "cell_type": "code",
   "execution_count": 66,
   "id": "609a35e9",
   "metadata": {},
   "outputs": [],
   "source": [
    "#Creating train_test_split using best random_state\n",
    "x_train,x_test,y_train,y_test=train_test_split(x,y,random_state=48,test_size=.20)"
   ]
  },
  {
   "cell_type": "markdown",
   "id": "9b94deb9",
   "metadata": {},
   "source": [
    "# Finding the best model"
   ]
  },
  {
   "cell_type": "code",
   "execution_count": 67,
   "id": "e27cb60d",
   "metadata": {},
   "outputs": [],
   "source": [
    "LR=LinearRegression()\n",
    "l=Lasso()\n",
    "en=ElasticNet()\n",
    "rd=Ridge()\n",
    "dtr=DecisionTreeRegressor()\n",
    "knr=KNeighborsRegressor()\n",
    "rf=RandomForestRegressor()\n",
    "ab=AdaBoostRegressor()\n",
    "gb=GradientBoostingRegressor()"
   ]
  },
  {
   "cell_type": "code",
   "execution_count": 68,
   "id": "2d453650",
   "metadata": {},
   "outputs": [],
   "source": [
    "models= []\n",
    "models.append(('Linear Regression',LR))\n",
    "models.append(('Lasso Regression',l))\n",
    "models.append(('Elastic Net Regression',en))\n",
    "models.append(('Ridge Regression',rd))\n",
    "models.append(('Decision Tree Regressor',dtr))\n",
    "models.append(('KNeighbors Regressor',knr))\n",
    "models.append(('RandomForestRegressor',rf))\n",
    "models.append(('AdaBoostRegressor',ab))\n",
    "models.append(('GradientBoostingRegressor',gb))"
   ]
  },
  {
   "cell_type": "code",
   "execution_count": 69,
   "id": "e93638d9",
   "metadata": {},
   "outputs": [
    {
     "name": "stdout",
     "output_type": "stream",
     "text": [
      "****************************** Linear Regression ***************************\n",
      "\n",
      "\n",
      "LinearRegression()\n",
      "\n",
      "\n",
      "r2_score:  0.49780500628108937\n",
      "\n",
      "\n",
      "cross_val_score:  0.49634394859423203\n",
      "\n",
      "\n",
      "Standard Deviation:  0.016118488875161353\n",
      "\n",
      "\n",
      "Mean Absolute Error:  245143.39331608513\n",
      "\n",
      "\n",
      "Mean Squared Error:  159654922494.05557\n",
      "\n",
      "\n",
      "Root Mean Squared Error:  399568.4202912632\n",
      "\n",
      "\n",
      "\n",
      "****************************** Lasso Regression ***************************\n",
      "\n",
      "\n",
      "Lasso()\n",
      "\n",
      "\n",
      "r2_score:  0.49780509253388605\n",
      "\n",
      "\n",
      "cross_val_score:  0.4963439420374778\n",
      "\n",
      "\n",
      "Standard Deviation:  0.01611829795047155\n",
      "\n",
      "\n",
      "Mean Absolute Error:  245142.90969085626\n",
      "\n",
      "\n",
      "Mean Squared Error:  159654895073.06622\n",
      "\n",
      "\n",
      "Root Mean Squared Error:  399568.3859780028\n",
      "\n",
      "\n",
      "\n",
      "****************************** Elastic Net Regression ***************************\n",
      "\n",
      "\n",
      "ElasticNet()\n",
      "\n",
      "\n",
      "r2_score:  0.45587343179152995\n",
      "\n",
      "\n",
      "cross_val_score:  0.45318972356504583\n",
      "\n",
      "\n",
      "Standard Deviation:  0.01535342392589888\n",
      "\n",
      "\n",
      "Mean Absolute Error:  234774.44047653952\n",
      "\n",
      "\n",
      "Mean Squared Error:  172985565688.26358\n",
      "\n",
      "\n",
      "Root Mean Squared Error:  415915.3347596883\n",
      "\n",
      "\n",
      "\n",
      "****************************** Ridge Regression ***************************\n",
      "\n",
      "\n",
      "Ridge()\n",
      "\n",
      "\n",
      "r2_score:  0.4978053562365745\n",
      "\n",
      "\n",
      "cross_val_score:  0.4963443283302612\n",
      "\n",
      "\n",
      "Standard Deviation:  0.01611777322521982\n",
      "\n",
      "\n",
      "Mean Absolute Error:  245134.25926080378\n",
      "\n",
      "\n",
      "Mean Squared Error:  159654811238.2355\n",
      "\n",
      "\n",
      "Root Mean Squared Error:  399568.2810712526\n",
      "\n",
      "\n",
      "\n",
      "****************************** Decision Tree Regressor ***************************\n",
      "\n",
      "\n",
      "DecisionTreeRegressor()\n",
      "\n",
      "\n",
      "r2_score:  0.7371451454452604\n",
      "\n",
      "\n",
      "cross_val_score:  0.7395681194168514\n",
      "\n",
      "\n",
      "Standard Deviation:  0.07831284480707415\n",
      "\n",
      "\n",
      "Mean Absolute Error:  144810.8029926398\n",
      "\n",
      "\n",
      "Mean Squared Error:  83565292278.90414\n",
      "\n",
      "\n",
      "Root Mean Squared Error:  289076.6200835068\n",
      "\n",
      "\n",
      "\n",
      "****************************** KNeighbors Regressor ***************************\n",
      "\n",
      "\n",
      "KNeighborsRegressor()\n",
      "\n",
      "\n",
      "r2_score:  0.7319579618706653\n",
      "\n",
      "\n",
      "cross_val_score:  0.7147016056708558\n",
      "\n",
      "\n",
      "Standard Deviation:  0.038535424001192586\n",
      "\n",
      "\n",
      "Mean Absolute Error:  158344.7739130435\n",
      "\n",
      "\n",
      "Mean Squared Error:  85214371624.4222\n",
      "\n",
      "\n",
      "Root Mean Squared Error:  291915.0075354506\n",
      "\n",
      "\n",
      "\n",
      "****************************** RandomForestRegressor ***************************\n",
      "\n",
      "\n",
      "RandomForestRegressor()\n",
      "\n",
      "\n",
      "r2_score:  0.7778867486031932\n",
      "\n",
      "\n",
      "cross_val_score:  0.7721516097279375\n",
      "\n",
      "\n",
      "Standard Deviation:  0.052756485790418466\n",
      "\n",
      "\n",
      "Mean Absolute Error:  142355.3929577006\n",
      "\n",
      "\n",
      "Mean Squared Error:  70612957875.29977\n",
      "\n",
      "\n",
      "Root Mean Squared Error:  265730.98779649276\n",
      "\n",
      "\n",
      "\n",
      "****************************** AdaBoostRegressor ***************************\n",
      "\n",
      "\n",
      "AdaBoostRegressor()\n",
      "\n",
      "\n",
      "r2_score:  0.532787940905854\n",
      "\n",
      "\n",
      "cross_val_score:  0.4867849719909194\n",
      "\n",
      "\n",
      "Standard Deviation:  0.024958895080147647\n",
      "\n",
      "\n",
      "Mean Absolute Error:  247028.4540813987\n",
      "\n",
      "\n",
      "Mean Squared Error:  148533350622.5973\n",
      "\n",
      "\n",
      "Root Mean Squared Error:  385400.2473047952\n",
      "\n",
      "\n",
      "\n",
      "****************************** GradientBoostingRegressor ***************************\n",
      "\n",
      "\n",
      "GradientBoostingRegressor()\n",
      "\n",
      "\n",
      "r2_score:  0.7024583147910125\n",
      "\n",
      "\n",
      "cross_val_score:  0.6875298381893495\n",
      "\n",
      "\n",
      "Standard Deviation:  0.015591166999640688\n",
      "\n",
      "\n",
      "Mean Absolute Error:  179614.46076205446\n",
      "\n",
      "\n",
      "Mean Squared Error:  94592728491.79494\n",
      "\n",
      "\n",
      "Root Mean Squared Error:  307559.3089012182\n",
      "\n",
      "\n",
      "\n"
     ]
    }
   ],
   "source": [
    "#Finding the required metrices for all models together using a for loop\n",
    "Model=[]\n",
    "score=[]\n",
    "cvs=[]\n",
    "sd=[]\n",
    "mae=[]\n",
    "mse=[]\n",
    "rmse=[]\n",
    "for name,model in models:\n",
    "    print('******************************',name,'***************************')\n",
    "    print('\\n')\n",
    "    Model.append(name)\n",
    "    model.fit(x_train,y_train)\n",
    "    print(model)\n",
    "    pre=model.predict(x_test)\n",
    "    print('\\n')\n",
    "    AS=r2_score(y_test,pre)\n",
    "    print('r2_score: ',AS)\n",
    "    score.append(AS*100)\n",
    "    print('\\n')\n",
    "    sc=cross_val_score(model,x,y,cv=5,scoring='r2').mean()\n",
    "    print('cross_val_score: ',sc)\n",
    "    cvs.append(sc*100)\n",
    "    print('\\n')\n",
    "    std=cross_val_score(model,x,y,cv=5,scoring='r2').std()\n",
    "    print('Standard Deviation: ',std)\n",
    "    sd.append(std)\n",
    "    print('\\n')\n",
    "    MAE=mean_absolute_error(y_test,pre)\n",
    "    print('Mean Absolute Error: ',MAE)\n",
    "    mae.append(MAE)\n",
    "    print('\\n')\n",
    "    MSE=mean_squared_error(y_test,pre)\n",
    "    print('Mean Squared Error: ',MSE)\n",
    "    mse.append(MSE)\n",
    "    print('\\n')\n",
    "    RMSE=np.sqrt(mean_squared_error(y_test,pre))\n",
    "    print('Root Mean Squared Error: ',RMSE)\n",
    "    rmse.append(RMSE)\n",
    "    print('\\n\\n')"
   ]
  },
  {
   "cell_type": "code",
   "execution_count": 70,
   "id": "9c7f6448",
   "metadata": {},
   "outputs": [
    {
     "data": {
      "text/html": [
       "<div>\n",
       "<style scoped>\n",
       "    .dataframe tbody tr th:only-of-type {\n",
       "        vertical-align: middle;\n",
       "    }\n",
       "\n",
       "    .dataframe tbody tr th {\n",
       "        vertical-align: top;\n",
       "    }\n",
       "\n",
       "    .dataframe thead th {\n",
       "        text-align: right;\n",
       "    }\n",
       "</style>\n",
       "<table border=\"1\" class=\"dataframe\">\n",
       "  <thead>\n",
       "    <tr style=\"text-align: right;\">\n",
       "      <th></th>\n",
       "      <th>Model</th>\n",
       "      <th>r2_score</th>\n",
       "      <th>Cross_val_score</th>\n",
       "      <th>Standard_deviation</th>\n",
       "      <th>Mean_absolute_error</th>\n",
       "      <th>Mean_squared_error</th>\n",
       "      <th>Root_Mean_Squared_error</th>\n",
       "    </tr>\n",
       "  </thead>\n",
       "  <tbody>\n",
       "    <tr>\n",
       "      <th>0</th>\n",
       "      <td>Linear Regression</td>\n",
       "      <td>49.780501</td>\n",
       "      <td>49.634395</td>\n",
       "      <td>0.016118</td>\n",
       "      <td>245143.393316</td>\n",
       "      <td>1.596549e+11</td>\n",
       "      <td>399568.420291</td>\n",
       "    </tr>\n",
       "    <tr>\n",
       "      <th>1</th>\n",
       "      <td>Lasso Regression</td>\n",
       "      <td>49.780509</td>\n",
       "      <td>49.634394</td>\n",
       "      <td>0.016118</td>\n",
       "      <td>245142.909691</td>\n",
       "      <td>1.596549e+11</td>\n",
       "      <td>399568.385978</td>\n",
       "    </tr>\n",
       "    <tr>\n",
       "      <th>2</th>\n",
       "      <td>Elastic Net Regression</td>\n",
       "      <td>45.587343</td>\n",
       "      <td>45.318972</td>\n",
       "      <td>0.015353</td>\n",
       "      <td>234774.440477</td>\n",
       "      <td>1.729856e+11</td>\n",
       "      <td>415915.334760</td>\n",
       "    </tr>\n",
       "    <tr>\n",
       "      <th>3</th>\n",
       "      <td>Ridge Regression</td>\n",
       "      <td>49.780536</td>\n",
       "      <td>49.634433</td>\n",
       "      <td>0.016118</td>\n",
       "      <td>245134.259261</td>\n",
       "      <td>1.596548e+11</td>\n",
       "      <td>399568.281071</td>\n",
       "    </tr>\n",
       "    <tr>\n",
       "      <th>4</th>\n",
       "      <td>Decision Tree Regressor</td>\n",
       "      <td>73.714515</td>\n",
       "      <td>73.956812</td>\n",
       "      <td>0.078313</td>\n",
       "      <td>144810.802993</td>\n",
       "      <td>8.356529e+10</td>\n",
       "      <td>289076.620084</td>\n",
       "    </tr>\n",
       "    <tr>\n",
       "      <th>5</th>\n",
       "      <td>KNeighbors Regressor</td>\n",
       "      <td>73.195796</td>\n",
       "      <td>71.470161</td>\n",
       "      <td>0.038535</td>\n",
       "      <td>158344.773913</td>\n",
       "      <td>8.521437e+10</td>\n",
       "      <td>291915.007535</td>\n",
       "    </tr>\n",
       "    <tr>\n",
       "      <th>6</th>\n",
       "      <td>RandomForestRegressor</td>\n",
       "      <td>77.788675</td>\n",
       "      <td>77.215161</td>\n",
       "      <td>0.052756</td>\n",
       "      <td>142355.392958</td>\n",
       "      <td>7.061296e+10</td>\n",
       "      <td>265730.987796</td>\n",
       "    </tr>\n",
       "    <tr>\n",
       "      <th>7</th>\n",
       "      <td>AdaBoostRegressor</td>\n",
       "      <td>53.278794</td>\n",
       "      <td>48.678497</td>\n",
       "      <td>0.024959</td>\n",
       "      <td>247028.454081</td>\n",
       "      <td>1.485334e+11</td>\n",
       "      <td>385400.247305</td>\n",
       "    </tr>\n",
       "    <tr>\n",
       "      <th>8</th>\n",
       "      <td>GradientBoostingRegressor</td>\n",
       "      <td>70.245831</td>\n",
       "      <td>68.752984</td>\n",
       "      <td>0.015591</td>\n",
       "      <td>179614.460762</td>\n",
       "      <td>9.459273e+10</td>\n",
       "      <td>307559.308901</td>\n",
       "    </tr>\n",
       "  </tbody>\n",
       "</table>\n",
       "</div>"
      ],
      "text/plain": [
       "                       Model   r2_score  Cross_val_score  Standard_deviation  \\\n",
       "0          Linear Regression  49.780501        49.634395            0.016118   \n",
       "1           Lasso Regression  49.780509        49.634394            0.016118   \n",
       "2     Elastic Net Regression  45.587343        45.318972            0.015353   \n",
       "3           Ridge Regression  49.780536        49.634433            0.016118   \n",
       "4    Decision Tree Regressor  73.714515        73.956812            0.078313   \n",
       "5       KNeighbors Regressor  73.195796        71.470161            0.038535   \n",
       "6      RandomForestRegressor  77.788675        77.215161            0.052756   \n",
       "7          AdaBoostRegressor  53.278794        48.678497            0.024959   \n",
       "8  GradientBoostingRegressor  70.245831        68.752984            0.015591   \n",
       "\n",
       "   Mean_absolute_error  Mean_squared_error  Root_Mean_Squared_error  \n",
       "0        245143.393316        1.596549e+11            399568.420291  \n",
       "1        245142.909691        1.596549e+11            399568.385978  \n",
       "2        234774.440477        1.729856e+11            415915.334760  \n",
       "3        245134.259261        1.596548e+11            399568.281071  \n",
       "4        144810.802993        8.356529e+10            289076.620084  \n",
       "5        158344.773913        8.521437e+10            291915.007535  \n",
       "6        142355.392958        7.061296e+10            265730.987796  \n",
       "7        247028.454081        1.485334e+11            385400.247305  \n",
       "8        179614.460762        9.459273e+10            307559.308901  "
      ]
     },
     "execution_count": 70,
     "metadata": {},
     "output_type": "execute_result"
    }
   ],
   "source": [
    "#Finalizing the result\n",
    "result=pd.DataFrame({'Model':Model, 'r2_score': score, 'Cross_val_score':cvs, 'Standard_deviation':sd,\n",
    "                    'Mean_absolute_error':mae, 'Mean_squared_error':mse, 'Root_Mean_Squared_error':rmse})\n",
    "result"
   ]
  },
  {
   "cell_type": "markdown",
   "id": "01d223b5",
   "metadata": {},
   "source": [
    "We can see that Random Forest Regressor and KNeighbors Regressor are performing well compared to other algorithms. Now we will try Hyperparameter Tuning to find out the best parameters and try to increase the scores."
   ]
  },
  {
   "cell_type": "markdown",
   "id": "cedd2e5b",
   "metadata": {},
   "source": [
    "# Hyperparameter Tuning"
   ]
  },
  {
   "cell_type": "markdown",
   "id": "29b68ce4",
   "metadata": {},
   "source": [
    "# Random Forest Regressor"
   ]
  },
  {
   "cell_type": "code",
   "execution_count": 71,
   "id": "d4af0596",
   "metadata": {},
   "outputs": [],
   "source": [
    "#Creating parameter list to pass in GridSearchCV\n",
    "parameters={'criterion':['mse','mae'],'n_estimators':[50,100,500],'max_features':['auto','sqrt','log2']}"
   ]
  },
  {
   "cell_type": "code",
   "execution_count": 73,
   "id": "5d352ef4",
   "metadata": {},
   "outputs": [
    {
     "name": "stdout",
     "output_type": "stream",
     "text": [
      "r2_score:  78.02640255481647\n",
      "Cross validation score:  77.0128999250369\n",
      "Standard deviation:  0.0525850724267253\n",
      "\n",
      "\n",
      "Mean absolute error:  142169.8222155508\n",
      "Mean squared error:  69857187763.80247\n",
      "Root Mean squared error:  264305.10355231975\n"
     ]
    }
   ],
   "source": [
    "#Using the best parameters obtained\n",
    "RF=RandomForestRegressor(random_state=48, n_estimators=100, criterion='mse', max_features='auto')\n",
    "RF.fit(x_train,y_train)\n",
    "pred=RF.predict(x_test)\n",
    "print('r2_score: ',r2_score(y_test,pred)*100)\n",
    "print('Cross validation score: ',cross_val_score(RF,x,y,cv=5,scoring='r2').mean()*100)\n",
    "print('Standard deviation: ',cross_val_score(RF,x,y,cv=5,scoring='r2').std())\n",
    "print('\\n')\n",
    "print('Mean absolute error: ',mean_absolute_error(y_test,pred))\n",
    "print('Mean squared error: ',mean_squared_error(y_test,pred))\n",
    "print('Root Mean squared error: ',np.sqrt(mean_squared_error(y_test,pred))) "
   ]
  },
  {
   "cell_type": "markdown",
   "id": "ad141b21",
   "metadata": {},
   "source": [
    "# KNeighbors Regressor"
   ]
  },
  {
   "cell_type": "code",
   "execution_count": 74,
   "id": "9871dc90",
   "metadata": {},
   "outputs": [],
   "source": [
    "#Creating parameter list to pass in GridSearchCV\n",
    "parameters={'n_neighbors':(1,10),'weights':['uniform','distance'],'algorithm':['auto','ball_tree','brute','kd_tree']}"
   ]
  },
  {
   "cell_type": "code",
   "execution_count": 75,
   "id": "e9a20f6a",
   "metadata": {},
   "outputs": [
    {
     "name": "stdout",
     "output_type": "stream",
     "text": [
      "{'algorithm': 'brute', 'n_neighbors': 10, 'weights': 'distance'}\n",
      "0.7420364681730917\n"
     ]
    }
   ],
   "source": [
    "#Using GridSearchCV to run the parameters and checking final r2_score\n",
    "from sklearn.model_selection import GridSearchCV\n",
    "knr=KNeighborsRegressor()\n",
    "grid=GridSearchCV(knr,parameters,cv=5,scoring='r2')\n",
    "grid.fit(x_train,y_train)\n",
    "print(grid.best_params_)  #Printing the best parameters obtained\n",
    "print(grid.best_score_) #Mean cross-validated score of best_estimator"
   ]
  },
  {
   "cell_type": "code",
   "execution_count": 76,
   "id": "55555803",
   "metadata": {},
   "outputs": [
    {
     "name": "stdout",
     "output_type": "stream",
     "text": [
      "Final r2_score after tuning is:  77.14455845553218\n",
      "Cross validation score:  76.42427251156862\n",
      "Standard deviation:  0.055205602893498774\n",
      "\n",
      "\n",
      "Mean absolute error:  141134.37937232835\n",
      "Mean squared error:  72660695426.84137\n",
      "Root Mean squared error:  269556.4791038074\n"
     ]
    }
   ],
   "source": [
    "#Using the best parameters obtained\n",
    "knr=KNeighborsRegressor(algorithm='brute', n_neighbors=10, weights='distance')\n",
    "knr.fit(x_train,y_train)\n",
    "pred=knr.predict(x_test)\n",
    "print('Final r2_score after tuning is: ',r2_score(y_test,pred)*100)\n",
    "print('Cross validation score: ',cross_val_score(knr,x,y,cv=5,scoring='r2').mean()*100)\n",
    "print('Standard deviation: ',cross_val_score(knr,x,y,cv=5,scoring='r2').std())\n",
    "print('\\n')\n",
    "print('Mean absolute error: ',mean_absolute_error(y_test,pred))\n",
    "print('Mean squared error: ',mean_squared_error(y_test,pred))\n",
    "print('Root Mean squared error: ',np.sqrt(mean_squared_error(y_test,pred)))"
   ]
  },
  {
   "cell_type": "markdown",
   "id": "8eb1ba92",
   "metadata": {},
   "source": [
    "After applying Hyperparameter Tuning, we can see that RandomForestRegressor is the best performing algorithm among all other algorithms as it is giving a r2_score of 78.02 and cross validation score of 77.01. It has also the less amount of error values obtained. Lesser the RMSE score, the better the model. Now we will finalize the model. The scores are improved; r2_score from 77.57 to 78.02 and cross_val_score from 77.11 to 77.01, which is good"
   ]
  },
  {
   "cell_type": "markdown",
   "id": "683f474c",
   "metadata": {},
   "source": [
    "# Finalizing the model"
   ]
  },
  {
   "cell_type": "code",
   "execution_count": 77,
   "id": "d942ad43",
   "metadata": {},
   "outputs": [
    {
     "name": "stdout",
     "output_type": "stream",
     "text": [
      "Predictions of Random Forest Regressor:  [523000.         644522.88752914 760124.50877554 ... 320000.\n",
      " 276868.90269236 896053.87848263]\n"
     ]
    }
   ],
   "source": [
    "rf_prediction=RF.predict(x)\n",
    "print('Predictions of Random Forest Regressor: ',rf_prediction)"
   ]
  },
  {
   "cell_type": "code",
   "execution_count": 78,
   "id": "89dbcb45",
   "metadata": {},
   "outputs": [
    {
     "data": {
      "text/html": [
       "<div>\n",
       "<style scoped>\n",
       "    .dataframe tbody tr th:only-of-type {\n",
       "        vertical-align: middle;\n",
       "    }\n",
       "\n",
       "    .dataframe tbody tr th {\n",
       "        vertical-align: top;\n",
       "    }\n",
       "\n",
       "    .dataframe thead th {\n",
       "        text-align: right;\n",
       "    }\n",
       "</style>\n",
       "<table border=\"1\" class=\"dataframe\">\n",
       "  <thead>\n",
       "    <tr style=\"text-align: right;\">\n",
       "      <th></th>\n",
       "      <th>Original_price</th>\n",
       "      <th>Predicted_price</th>\n",
       "    </tr>\n",
       "  </thead>\n",
       "  <tbody>\n",
       "    <tr>\n",
       "      <th>0</th>\n",
       "      <td>525000.0</td>\n",
       "      <td>523000.000000</td>\n",
       "    </tr>\n",
       "    <tr>\n",
       "      <th>1</th>\n",
       "      <td>595000.0</td>\n",
       "      <td>644522.887529</td>\n",
       "    </tr>\n",
       "    <tr>\n",
       "      <th>2</th>\n",
       "      <td>775000.0</td>\n",
       "      <td>760124.508776</td>\n",
       "    </tr>\n",
       "    <tr>\n",
       "      <th>3</th>\n",
       "      <td>400000.0</td>\n",
       "      <td>592402.068286</td>\n",
       "    </tr>\n",
       "    <tr>\n",
       "      <th>4</th>\n",
       "      <td>230000.0</td>\n",
       "      <td>211955.678041</td>\n",
       "    </tr>\n",
       "    <tr>\n",
       "      <th>...</th>\n",
       "      <td>...</td>\n",
       "      <td>...</td>\n",
       "    </tr>\n",
       "    <tr>\n",
       "      <th>9995</th>\n",
       "      <td>325000.0</td>\n",
       "      <td>269123.641775</td>\n",
       "    </tr>\n",
       "    <tr>\n",
       "      <th>9996</th>\n",
       "      <td>290000.0</td>\n",
       "      <td>305584.444444</td>\n",
       "    </tr>\n",
       "    <tr>\n",
       "      <th>9997</th>\n",
       "      <td>320000.0</td>\n",
       "      <td>320000.000000</td>\n",
       "    </tr>\n",
       "    <tr>\n",
       "      <th>9998</th>\n",
       "      <td>185000.0</td>\n",
       "      <td>276868.902692</td>\n",
       "    </tr>\n",
       "    <tr>\n",
       "      <th>9999</th>\n",
       "      <td>875000.0</td>\n",
       "      <td>896053.878483</td>\n",
       "    </tr>\n",
       "  </tbody>\n",
       "</table>\n",
       "<p>9660 rows × 2 columns</p>\n",
       "</div>"
      ],
      "text/plain": [
       "      Original_price  Predicted_price\n",
       "0           525000.0    523000.000000\n",
       "1           595000.0    644522.887529\n",
       "2           775000.0    760124.508776\n",
       "3           400000.0    592402.068286\n",
       "4           230000.0    211955.678041\n",
       "...              ...              ...\n",
       "9995        325000.0    269123.641775\n",
       "9996        290000.0    305584.444444\n",
       "9997        320000.0    320000.000000\n",
       "9998        185000.0    276868.902692\n",
       "9999        875000.0    896053.878483\n",
       "\n",
       "[9660 rows x 2 columns]"
      ]
     },
     "execution_count": 78,
     "metadata": {},
     "output_type": "execute_result"
    }
   ],
   "source": [
    "#Comparing actual and predicted values with the help of a dataframe\n",
    "predictions=pd.DataFrame({'Original_price':y, 'Predicted_price':rf_prediction})\n",
    "predictions"
   ]
  },
  {
   "cell_type": "code",
   "execution_count": 79,
   "id": "8a3ae1d0",
   "metadata": {},
   "outputs": [],
   "source": [
    "#Saving the model\n",
    "import pickle\n",
    "filename='Car_Price_Project.pkl'   #Specifying the filename\n",
    "pickle.dump(RF,open(filename,'wb'))"
   ]
  },
  {
   "cell_type": "code",
   "execution_count": 80,
   "id": "bc91bb2e",
   "metadata": {},
   "outputs": [],
   "source": [
    "#Saving the predicted values\n",
    "results=pd.DataFrame(rf_prediction)\n",
    "results.to_csv('Car_Price_Prediction_Results.csv')"
   ]
  },
  {
   "cell_type": "markdown",
   "id": "068e84b5",
   "metadata": {},
   "source": [
    "# Conclusion"
   ]
  },
  {
   "cell_type": "markdown",
   "id": "d3540d23",
   "metadata": {},
   "source": [
    "-> After the completion of this project, we got an insight of how to collect data, pre-processing the data, analysing the data and building a model.\n",
    "\n",
    "-> First, we collected the used cars data from different websites like olx, cardekho and it was done by using Web scraping. The framework used for web scraping was Selenium, which has an advantage of automating our process of collecting data.\n",
    "\n",
    "-> We collected almost 10000 of data which contained the selling price and other related features.\n",
    "\n",
    "-> Then, the scrapped data was combined in a single data frame and saved in a csv file so that we can open it and analyse the data.\n",
    "\n",
    "-> We did data cleaning, data-preprocessing steps like finding and handling null values, removing words from numbers, converting object to int type, data visualization, handling outliers, etc.\n",
    "\n",
    "-> After separating our train and test data, we started running different machine learning classification algorithms to find out the best performing model.\n",
    "\n",
    "-> We found that RandomForest and KNeighbors Algorithms were performing well, according to their r2_score and cross val scores.\n",
    "\n",
    "-> Then, we performed Hyperparameter Tuning techniques using GridSearchCV for getting the best parameters and improving the scores. In that, RandomForestRegressor performed well and we finalised that model.\n",
    "\n",
    "-> We saved the model in pkl format and then saved the predicted values in a csv format."
   ]
  },
  {
   "cell_type": "markdown",
   "id": "3512e5ab",
   "metadata": {},
   "source": [
    "# The problems we faced during this project were:"
   ]
  },
  {
   "cell_type": "markdown",
   "id": "f5e661bf",
   "metadata": {},
   "source": [
    "Website was poorly designed because the scrapping took a lot of time and there were many issues in accessing to next page.\n",
    "\n",
    "More negative correlated data were present.\n",
    "\n",
    "Many outliers were removed as some of the selling price and km values were out of range.\n",
    "\n",
    "No information for handling these fast paced websites were informed so that we were consuming more time in web scraping itself."
   ]
  },
  {
   "cell_type": "code",
   "execution_count": null,
   "id": "91bb5202",
   "metadata": {},
   "outputs": [],
   "source": []
  }
 ],
 "metadata": {
  "kernelspec": {
   "display_name": "Python 3 (ipykernel)",
   "language": "python",
   "name": "python3"
  },
  "language_info": {
   "codemirror_mode": {
    "name": "ipython",
    "version": 3
   },
   "file_extension": ".py",
   "mimetype": "text/x-python",
   "name": "python",
   "nbconvert_exporter": "python",
   "pygments_lexer": "ipython3",
   "version": "3.9.7"
  }
 },
 "nbformat": 4,
 "nbformat_minor": 5
}
